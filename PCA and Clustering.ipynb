{
  "cells": [
    {
      "cell_type": "markdown",
      "id": "87fee377",
      "metadata": {
        "id": "87fee377"
      },
      "source": [
        "PCA and Clustering\n"
      ]
    },
    {
      "cell_type": "markdown",
      "id": "ba7f05d0",
      "metadata": {
        "id": "ba7f05d0"
      },
      "source": [
        "The purpose of this assignment is to practice using PCA and clustering techniques on a given dataset.\n"
      ]
    },
    {
      "cell_type": "code",
      "execution_count": 34,
      "id": "be4299ae",
      "metadata": {
        "id": "be4299ae"
      },
      "outputs": [],
      "source": [
        "import numpy as np\n",
        "import pandas as pd\n",
        "import matplotlib.pyplot as plt\n",
        "import seaborn as sns"
      ]
    },
    {
      "cell_type": "markdown",
      "id": "3c84e8e3",
      "metadata": {
        "id": "3c84e8e3"
      },
      "source": [
        "## Part 1: Principle Component Analysis (PCA)\n"
      ]
    },
    {
      "cell_type": "markdown",
      "id": "fe7cfa4f",
      "metadata": {
        "id": "fe7cfa4f"
      },
      "source": [
        "### Step 1. Load data\n",
        "\n",
        "Wheat kernels. (2020). UCI Machine Learning Repository. https://doi.org/10.24432/C5NG8N.\n"
      ]
    },
    {
      "cell_type": "code",
      "execution_count": 35,
      "id": "474481f1",
      "metadata": {
        "colab": {
          "base_uri": "https://localhost:8080/",
          "height": 411
        },
        "id": "474481f1",
        "outputId": "adb676d7-32eb-426b-c63d-7fd139342ffc"
      },
      "outputs": [
        {
          "data": {
            "text/html": [
              "<div>\n",
              "<style scoped>\n",
              "    .dataframe tbody tr th:only-of-type {\n",
              "        vertical-align: middle;\n",
              "    }\n",
              "\n",
              "    .dataframe tbody tr th {\n",
              "        vertical-align: top;\n",
              "    }\n",
              "\n",
              "    .dataframe thead th {\n",
              "        text-align: right;\n",
              "    }\n",
              "</style>\n",
              "<table border=\"1\" class=\"dataframe\">\n",
              "  <thead>\n",
              "    <tr style=\"text-align: right;\">\n",
              "      <th></th>\n",
              "      <th>area</th>\n",
              "      <th>perimeter</th>\n",
              "      <th>compactness</th>\n",
              "      <th>length</th>\n",
              "      <th>width</th>\n",
              "    </tr>\n",
              "  </thead>\n",
              "  <tbody>\n",
              "    <tr>\n",
              "      <th>0</th>\n",
              "      <td>15.26</td>\n",
              "      <td>14.84</td>\n",
              "      <td>0.8710</td>\n",
              "      <td>5.763</td>\n",
              "      <td>3.312</td>\n",
              "    </tr>\n",
              "    <tr>\n",
              "      <th>1</th>\n",
              "      <td>14.88</td>\n",
              "      <td>14.57</td>\n",
              "      <td>0.8811</td>\n",
              "      <td>5.554</td>\n",
              "      <td>3.333</td>\n",
              "    </tr>\n",
              "    <tr>\n",
              "      <th>2</th>\n",
              "      <td>14.29</td>\n",
              "      <td>14.09</td>\n",
              "      <td>0.9050</td>\n",
              "      <td>5.291</td>\n",
              "      <td>3.337</td>\n",
              "    </tr>\n",
              "    <tr>\n",
              "      <th>3</th>\n",
              "      <td>13.84</td>\n",
              "      <td>13.94</td>\n",
              "      <td>0.8955</td>\n",
              "      <td>5.324</td>\n",
              "      <td>3.379</td>\n",
              "    </tr>\n",
              "    <tr>\n",
              "      <th>4</th>\n",
              "      <td>16.14</td>\n",
              "      <td>14.99</td>\n",
              "      <td>0.9034</td>\n",
              "      <td>5.658</td>\n",
              "      <td>3.562</td>\n",
              "    </tr>\n",
              "    <tr>\n",
              "      <th>...</th>\n",
              "      <td>...</td>\n",
              "      <td>...</td>\n",
              "      <td>...</td>\n",
              "      <td>...</td>\n",
              "      <td>...</td>\n",
              "    </tr>\n",
              "    <tr>\n",
              "      <th>205</th>\n",
              "      <td>12.19</td>\n",
              "      <td>13.20</td>\n",
              "      <td>0.8783</td>\n",
              "      <td>5.137</td>\n",
              "      <td>2.981</td>\n",
              "    </tr>\n",
              "    <tr>\n",
              "      <th>206</th>\n",
              "      <td>11.23</td>\n",
              "      <td>12.88</td>\n",
              "      <td>0.8511</td>\n",
              "      <td>5.140</td>\n",
              "      <td>2.795</td>\n",
              "    </tr>\n",
              "    <tr>\n",
              "      <th>207</th>\n",
              "      <td>13.20</td>\n",
              "      <td>13.66</td>\n",
              "      <td>0.8883</td>\n",
              "      <td>5.236</td>\n",
              "      <td>3.232</td>\n",
              "    </tr>\n",
              "    <tr>\n",
              "      <th>208</th>\n",
              "      <td>11.84</td>\n",
              "      <td>13.21</td>\n",
              "      <td>0.8521</td>\n",
              "      <td>5.175</td>\n",
              "      <td>2.836</td>\n",
              "    </tr>\n",
              "    <tr>\n",
              "      <th>209</th>\n",
              "      <td>12.30</td>\n",
              "      <td>13.34</td>\n",
              "      <td>0.8684</td>\n",
              "      <td>5.243</td>\n",
              "      <td>2.974</td>\n",
              "    </tr>\n",
              "  </tbody>\n",
              "</table>\n",
              "<p>210 rows × 5 columns</p>\n",
              "</div>"
            ],
            "text/plain": [
              "      area  perimeter  compactness  length  width\n",
              "0    15.26      14.84       0.8710   5.763  3.312\n",
              "1    14.88      14.57       0.8811   5.554  3.333\n",
              "2    14.29      14.09       0.9050   5.291  3.337\n",
              "3    13.84      13.94       0.8955   5.324  3.379\n",
              "4    16.14      14.99       0.9034   5.658  3.562\n",
              "..     ...        ...          ...     ...    ...\n",
              "205  12.19      13.20       0.8783   5.137  2.981\n",
              "206  11.23      12.88       0.8511   5.140  2.795\n",
              "207  13.20      13.66       0.8883   5.236  3.232\n",
              "208  11.84      13.21       0.8521   5.175  2.836\n",
              "209  12.30      13.34       0.8684   5.243  2.974\n",
              "\n",
              "[210 rows x 5 columns]"
            ]
          },
          "execution_count": 35,
          "metadata": {},
          "output_type": "execute_result"
        }
      ],
      "source": [
        "# TODO: Import dataset and inspect the first five columns\n",
        "feature_names = ['area', 'perimeter', 'compactness',\n",
        "                 'length', 'width', 'coefficient', 'groove', 'target']\n",
        "\n",
        "data = pd.read_csv(\"./data/pca_dataset.txt\", sep='\\t',\n",
        "                   header=None, names=feature_names)\n",
        "data.iloc[:, :5]"
      ]
    },
    {
      "cell_type": "code",
      "execution_count": 36,
      "id": "oQjBDD2uvyO5",
      "metadata": {
        "colab": {
          "base_uri": "https://localhost:8080/",
          "height": 201
        },
        "id": "oQjBDD2uvyO5",
        "outputId": "4f48d6bd-7c14-4f27-dae4-633517d02682"
      },
      "outputs": [
        {
          "data": {
            "text/html": [
              "<div>\n",
              "<style scoped>\n",
              "    .dataframe tbody tr th:only-of-type {\n",
              "        vertical-align: middle;\n",
              "    }\n",
              "\n",
              "    .dataframe tbody tr th {\n",
              "        vertical-align: top;\n",
              "    }\n",
              "\n",
              "    .dataframe thead th {\n",
              "        text-align: right;\n",
              "    }\n",
              "</style>\n",
              "<table border=\"1\" class=\"dataframe\">\n",
              "  <thead>\n",
              "    <tr style=\"text-align: right;\">\n",
              "      <th></th>\n",
              "      <th>area</th>\n",
              "      <th>perimeter</th>\n",
              "      <th>compactness</th>\n",
              "      <th>length</th>\n",
              "      <th>width</th>\n",
              "      <th>coefficient</th>\n",
              "      <th>groove</th>\n",
              "      <th>target</th>\n",
              "    </tr>\n",
              "  </thead>\n",
              "  <tbody>\n",
              "    <tr>\n",
              "      <th>0</th>\n",
              "      <td>15.26</td>\n",
              "      <td>14.84</td>\n",
              "      <td>0.8710</td>\n",
              "      <td>5.763</td>\n",
              "      <td>3.312</td>\n",
              "      <td>2.221</td>\n",
              "      <td>5.220</td>\n",
              "      <td>1</td>\n",
              "    </tr>\n",
              "    <tr>\n",
              "      <th>1</th>\n",
              "      <td>14.88</td>\n",
              "      <td>14.57</td>\n",
              "      <td>0.8811</td>\n",
              "      <td>5.554</td>\n",
              "      <td>3.333</td>\n",
              "      <td>1.018</td>\n",
              "      <td>4.956</td>\n",
              "      <td>1</td>\n",
              "    </tr>\n",
              "    <tr>\n",
              "      <th>2</th>\n",
              "      <td>14.29</td>\n",
              "      <td>14.09</td>\n",
              "      <td>0.9050</td>\n",
              "      <td>5.291</td>\n",
              "      <td>3.337</td>\n",
              "      <td>2.699</td>\n",
              "      <td>4.825</td>\n",
              "      <td>1</td>\n",
              "    </tr>\n",
              "    <tr>\n",
              "      <th>3</th>\n",
              "      <td>13.84</td>\n",
              "      <td>13.94</td>\n",
              "      <td>0.8955</td>\n",
              "      <td>5.324</td>\n",
              "      <td>3.379</td>\n",
              "      <td>2.259</td>\n",
              "      <td>4.805</td>\n",
              "      <td>1</td>\n",
              "    </tr>\n",
              "    <tr>\n",
              "      <th>4</th>\n",
              "      <td>16.14</td>\n",
              "      <td>14.99</td>\n",
              "      <td>0.9034</td>\n",
              "      <td>5.658</td>\n",
              "      <td>3.562</td>\n",
              "      <td>1.355</td>\n",
              "      <td>5.175</td>\n",
              "      <td>1</td>\n",
              "    </tr>\n",
              "  </tbody>\n",
              "</table>\n",
              "</div>"
            ],
            "text/plain": [
              "    area  perimeter  compactness  length  width  coefficient  groove  target\n",
              "0  15.26      14.84       0.8710   5.763  3.312        2.221   5.220       1\n",
              "1  14.88      14.57       0.8811   5.554  3.333        1.018   4.956       1\n",
              "2  14.29      14.09       0.9050   5.291  3.337        2.699   4.825       1\n",
              "3  13.84      13.94       0.8955   5.324  3.379        2.259   4.805       1\n",
              "4  16.14      14.99       0.9034   5.658  3.562        1.355   5.175       1"
            ]
          },
          "execution_count": 36,
          "metadata": {},
          "output_type": "execute_result"
        }
      ],
      "source": [
        "# inspect the first 5 rows\n",
        "data.head()"
      ]
    },
    {
      "cell_type": "markdown",
      "id": "c0453ae3",
      "metadata": {
        "id": "c0453ae3"
      },
      "source": [
        "Next, you will need to separate the data into your feature matrix and target vector.\n"
      ]
    },
    {
      "cell_type": "code",
      "execution_count": 37,
      "id": "15a5c76c",
      "metadata": {
        "colab": {
          "base_uri": "https://localhost:8080/"
        },
        "id": "15a5c76c",
        "outputId": "545f4d8c-8928-480e-85b2-27686706401e"
      },
      "outputs": [
        {
          "name": "stdout",
          "output_type": "stream",
          "text": [
            "X-shape: (210, 7)\n",
            "y-shape: (210,)\n"
          ]
        }
      ],
      "source": [
        "# TODO: Separate the data into feature matrix and target vector. Print the shape of X and y\n",
        "X = data.iloc[:, :-1]\n",
        "y = data.iloc[:, -1]\n",
        "\n",
        "print(\"X-shape:\", X.shape)\n",
        "print(\"y-shape:\", y.shape)"
      ]
    },
    {
      "cell_type": "code",
      "execution_count": 38,
      "id": "tC11MdIEvyO7",
      "metadata": {
        "colab": {
          "base_uri": "https://localhost:8080/",
          "height": 502
        },
        "id": "tC11MdIEvyO7",
        "outputId": "17bb2891-06c4-41b9-d1ed-120950b80e84"
      },
      "outputs": [
        {
          "data": {
            "image/png": "[encoded data removed]",
            "text/plain": [
              "<Figure size 800x550 with 1 Axes>"
            ]
          },
          "metadata": {},
          "output_type": "display_data"
        }
      ],
      "source": [
        "# plot the count of each value in df\n",
        "sns.countplot(y=data.target, data=data)\n",
        "plt.xlabel(\"Count of each Target class\")\n",
        "plt.ylabel(\"Target Class\")\n",
        "plt.show()\n",
        "\n",
        "# This plot shows that we have an equal number of items in each class. Classes are evenly distributed and not imbalanced."
      ]
    },
    {
      "cell_type": "code",
      "execution_count": 39,
      "id": "GGIaRHjSvyO7",
      "metadata": {
        "colab": {
          "base_uri": "https://localhost:8080/",
          "height": 291
        },
        "id": "GGIaRHjSvyO7",
        "outputId": "9e874248-7494-4374-b15f-f46570602cc7"
      },
      "outputs": [
        {
          "data": {
            "text/html": [
              "<div>\n",
              "<style scoped>\n",
              "    .dataframe tbody tr th:only-of-type {\n",
              "        vertical-align: middle;\n",
              "    }\n",
              "\n",
              "    .dataframe tbody tr th {\n",
              "        vertical-align: top;\n",
              "    }\n",
              "\n",
              "    .dataframe thead th {\n",
              "        text-align: right;\n",
              "    }\n",
              "</style>\n",
              "<table border=\"1\" class=\"dataframe\">\n",
              "  <thead>\n",
              "    <tr style=\"text-align: right;\">\n",
              "      <th></th>\n",
              "      <th>count</th>\n",
              "      <th>mean</th>\n",
              "      <th>std</th>\n",
              "      <th>min</th>\n",
              "      <th>25%</th>\n",
              "      <th>50%</th>\n",
              "      <th>75%</th>\n",
              "      <th>max</th>\n",
              "    </tr>\n",
              "  </thead>\n",
              "  <tbody>\n",
              "    <tr>\n",
              "      <th>area</th>\n",
              "      <td>210.0</td>\n",
              "      <td>14.847524</td>\n",
              "      <td>2.909699</td>\n",
              "      <td>10.5900</td>\n",
              "      <td>12.27000</td>\n",
              "      <td>14.35500</td>\n",
              "      <td>17.305000</td>\n",
              "      <td>21.1800</td>\n",
              "    </tr>\n",
              "    <tr>\n",
              "      <th>perimeter</th>\n",
              "      <td>210.0</td>\n",
              "      <td>14.559286</td>\n",
              "      <td>1.305959</td>\n",
              "      <td>12.4100</td>\n",
              "      <td>13.45000</td>\n",
              "      <td>14.32000</td>\n",
              "      <td>15.715000</td>\n",
              "      <td>17.2500</td>\n",
              "    </tr>\n",
              "    <tr>\n",
              "      <th>compactness</th>\n",
              "      <td>210.0</td>\n",
              "      <td>0.870999</td>\n",
              "      <td>0.023629</td>\n",
              "      <td>0.8081</td>\n",
              "      <td>0.85690</td>\n",
              "      <td>0.87345</td>\n",
              "      <td>0.887775</td>\n",
              "      <td>0.9183</td>\n",
              "    </tr>\n",
              "    <tr>\n",
              "      <th>length</th>\n",
              "      <td>210.0</td>\n",
              "      <td>5.628533</td>\n",
              "      <td>0.443063</td>\n",
              "      <td>4.8990</td>\n",
              "      <td>5.26225</td>\n",
              "      <td>5.52350</td>\n",
              "      <td>5.979750</td>\n",
              "      <td>6.6750</td>\n",
              "    </tr>\n",
              "    <tr>\n",
              "      <th>width</th>\n",
              "      <td>210.0</td>\n",
              "      <td>3.258605</td>\n",
              "      <td>0.377714</td>\n",
              "      <td>2.6300</td>\n",
              "      <td>2.94400</td>\n",
              "      <td>3.23700</td>\n",
              "      <td>3.561750</td>\n",
              "      <td>4.0330</td>\n",
              "    </tr>\n",
              "    <tr>\n",
              "      <th>coefficient</th>\n",
              "      <td>210.0</td>\n",
              "      <td>3.700201</td>\n",
              "      <td>1.503557</td>\n",
              "      <td>0.7651</td>\n",
              "      <td>2.56150</td>\n",
              "      <td>3.59900</td>\n",
              "      <td>4.768750</td>\n",
              "      <td>8.4560</td>\n",
              "    </tr>\n",
              "    <tr>\n",
              "      <th>groove</th>\n",
              "      <td>210.0</td>\n",
              "      <td>5.408071</td>\n",
              "      <td>0.491480</td>\n",
              "      <td>4.5190</td>\n",
              "      <td>5.04500</td>\n",
              "      <td>5.22300</td>\n",
              "      <td>5.877000</td>\n",
              "      <td>6.5500</td>\n",
              "    </tr>\n",
              "    <tr>\n",
              "      <th>target</th>\n",
              "      <td>210.0</td>\n",
              "      <td>2.000000</td>\n",
              "      <td>0.818448</td>\n",
              "      <td>1.0000</td>\n",
              "      <td>1.00000</td>\n",
              "      <td>2.00000</td>\n",
              "      <td>3.000000</td>\n",
              "      <td>3.0000</td>\n",
              "    </tr>\n",
              "  </tbody>\n",
              "</table>\n",
              "</div>"
            ],
            "text/plain": [
              "             count       mean       std      min       25%       50%  \\\n",
              "area         210.0  14.847524  2.909699  10.5900  12.27000  14.35500   \n",
              "perimeter    210.0  14.559286  1.305959  12.4100  13.45000  14.32000   \n",
              "compactness  210.0   0.870999  0.023629   0.8081   0.85690   0.87345   \n",
              "length       210.0   5.628533  0.443063   4.8990   5.26225   5.52350   \n",
              "width        210.0   3.258605  0.377714   2.6300   2.94400   3.23700   \n",
              "coefficient  210.0   3.700201  1.503557   0.7651   2.56150   3.59900   \n",
              "groove       210.0   5.408071  0.491480   4.5190   5.04500   5.22300   \n",
              "target       210.0   2.000000  0.818448   1.0000   1.00000   2.00000   \n",
              "\n",
              "                   75%      max  \n",
              "area         17.305000  21.1800  \n",
              "perimeter    15.715000  17.2500  \n",
              "compactness   0.887775   0.9183  \n",
              "length        5.979750   6.6750  \n",
              "width         3.561750   4.0330  \n",
              "coefficient   4.768750   8.4560  \n",
              "groove        5.877000   6.5500  \n",
              "target        3.000000   3.0000  "
            ]
          },
          "execution_count": 39,
          "metadata": {},
          "output_type": "execute_result"
        }
      ],
      "source": [
        "# Investigate statistics about data\n",
        "statistics = data.describe().transpose()\n",
        "statistics"
      ]
    },
    {
      "cell_type": "code",
      "execution_count": 40,
      "id": "VczHABgovyO8",
      "metadata": {
        "colab": {
          "base_uri": "https://localhost:8080/",
          "height": 291
        },
        "id": "VczHABgovyO8",
        "outputId": "24112fbf-4cfd-4022-f802-e269d84484f6"
      },
      "outputs": [
        {
          "data": {
            "text/html": [
              "<div>\n",
              "<style scoped>\n",
              "    .dataframe tbody tr th:only-of-type {\n",
              "        vertical-align: middle;\n",
              "    }\n",
              "\n",
              "    .dataframe tbody tr th {\n",
              "        vertical-align: top;\n",
              "    }\n",
              "\n",
              "    .dataframe thead th {\n",
              "        text-align: right;\n",
              "    }\n",
              "</style>\n",
              "<table border=\"1\" class=\"dataframe\">\n",
              "  <thead>\n",
              "    <tr style=\"text-align: right;\">\n",
              "      <th></th>\n",
              "      <th>low_value</th>\n",
              "      <th>high_value</th>\n",
              "      <th>low outliers?</th>\n",
              "      <th>high outliers?</th>\n",
              "    </tr>\n",
              "  </thead>\n",
              "  <tbody>\n",
              "    <tr>\n",
              "      <th>area</th>\n",
              "      <td>6.118426</td>\n",
              "      <td>23.576622</td>\n",
              "      <td>False</td>\n",
              "      <td>False</td>\n",
              "    </tr>\n",
              "    <tr>\n",
              "      <th>perimeter</th>\n",
              "      <td>10.641410</td>\n",
              "      <td>18.477162</td>\n",
              "      <td>False</td>\n",
              "      <td>False</td>\n",
              "    </tr>\n",
              "    <tr>\n",
              "      <th>compactness</th>\n",
              "      <td>0.800110</td>\n",
              "      <td>0.941887</td>\n",
              "      <td>False</td>\n",
              "      <td>False</td>\n",
              "    </tr>\n",
              "    <tr>\n",
              "      <th>length</th>\n",
              "      <td>4.299343</td>\n",
              "      <td>6.957724</td>\n",
              "      <td>False</td>\n",
              "      <td>False</td>\n",
              "    </tr>\n",
              "    <tr>\n",
              "      <th>width</th>\n",
              "      <td>2.125461</td>\n",
              "      <td>4.391748</td>\n",
              "      <td>False</td>\n",
              "      <td>False</td>\n",
              "    </tr>\n",
              "    <tr>\n",
              "      <th>coefficient</th>\n",
              "      <td>-0.810470</td>\n",
              "      <td>8.210872</td>\n",
              "      <td>False</td>\n",
              "      <td>True</td>\n",
              "    </tr>\n",
              "    <tr>\n",
              "      <th>groove</th>\n",
              "      <td>3.933630</td>\n",
              "      <td>6.882513</td>\n",
              "      <td>False</td>\n",
              "      <td>False</td>\n",
              "    </tr>\n",
              "    <tr>\n",
              "      <th>target</th>\n",
              "      <td>-0.455343</td>\n",
              "      <td>4.455343</td>\n",
              "      <td>False</td>\n",
              "      <td>False</td>\n",
              "    </tr>\n",
              "  </tbody>\n",
              "</table>\n",
              "</div>"
            ],
            "text/plain": [
              "             low_value  high_value  low outliers?  high outliers?\n",
              "area          6.118426   23.576622          False           False\n",
              "perimeter    10.641410   18.477162          False           False\n",
              "compactness   0.800110    0.941887          False           False\n",
              "length        4.299343    6.957724          False           False\n",
              "width         2.125461    4.391748          False           False\n",
              "coefficient  -0.810470    8.210872          False            True\n",
              "groove        3.933630    6.882513          False           False\n",
              "target       -0.455343    4.455343          False           False"
            ]
          },
          "execution_count": 40,
          "metadata": {},
          "output_type": "execute_result"
        }
      ],
      "source": [
        "# Calculate outliers\n",
        "# For a normal distribution, 99.7% of values are within 3 standard deviations of the mean, values outside of this are considered to be outliers\n",
        "# source: https://www.freecodecamp.org/news/how-to-detect-outliers-in-machine-learning/\n",
        "\n",
        "outliers = pd.DataFrame()\n",
        "outliers['low_value'] = statistics['mean'] - 3 * statistics['std']\n",
        "outliers['high_value'] = statistics['mean'] + 3 * statistics['std']\n",
        "outliers['low outliers?'] = statistics['min'] < outliers['low_value']\n",
        "outliers['high outliers?'] = statistics['max'] > outliers['high_value']\n",
        "outliers\n",
        "\n",
        "# This shows we have outliers in the coefficient feature. Maximum value of 8.456 when 3 standard deviations from the mean would be 8.211"
      ]
    },
    {
      "cell_type": "code",
      "execution_count": 41,
      "id": "K2WTAQJovyO9",
      "metadata": {
        "colab": {
          "base_uri": "https://localhost:8080/",
          "height": 516
        },
        "id": "K2WTAQJovyO9",
        "outputId": "ceb15614-98cc-4df1-993e-3cd9f5abac21"
      },
      "outputs": [
        {
          "name": "stderr",
          "output_type": "stream",
          "text": [
            "/Users/jennbushey/anaconda3/envs/ensf-ml/lib/python3.11/site-packages/seaborn/axisgrid.py:118: UserWarning: The figure layout has changed to tight\n",
            "  self._figure.tight_layout(*args, **kwargs)\n"
          ]
        },
        {
          "data": {
            "text/plain": [
              "<seaborn.axisgrid.FacetGrid at 0x168349d90>"
            ]
          },
          "execution_count": 41,
          "metadata": {},
          "output_type": "execute_result"
        },
        {
          "data": {
            "image/png": "[encoded data removed]",
            "text/plain": [
              "<Figure size 631.5x500 with 1 Axes>"
            ]
          },
          "metadata": {},
          "output_type": "display_data"
        }
      ],
      "source": [
        "sns.displot(data, bins=50)\n",
        "# This plot shows the data distribution of each feature. The features do not appear to be normally distributed. They are either skewed or multimodal."
      ]
    },
    {
      "cell_type": "markdown",
      "id": "e5024bec",
      "metadata": {
        "id": "e5024bec"
      },
      "source": [
        "### Step 2: Preprocessing\n"
      ]
    },
    {
      "cell_type": "markdown",
      "id": "f908b657",
      "metadata": {
        "id": "f908b657"
      },
      "source": [
        "To preprocess the data, we will need to scale the data. Which scaler would you select and why?\n"
      ]
    },
    {
      "cell_type": "markdown",
      "id": "nv07cTj7vyO-",
      "metadata": {
        "id": "nv07cTj7vyO-"
      },
      "source": [
        "_Answers_\n",
        "\n",
        "1. Our classes are evenly distributed - each class has the same number of observations in the dataset.\n",
        "\n",
        "1. The data has standard deviations varying from 0.02 to 2.91 and mean values from 0.87 to 14.85 indicating that the features are not using the same scale and do not have unit variance.\n",
        "\n",
        "1. Plotting the data, we can tell that the distribution of the features are multimodal.\n",
        "\n",
        "1. We have one feature that may have outliers.\n",
        "\n",
        "I am choosing the Standard Scaler as it will standardize each feature so that they are on the same scale where mean = 0, standard deviation = 1, and variance = 1.\n",
        "\n",
        "I am not selecting Robust Scaler to reduce the influence of outliers as we only have one outlier assuming a normal distribution which we have seen it may not be and the value of the maximum outlier isn't that far outside a three standard deviation range.\n",
        "\n",
        "PCA requires each feature has a unit variance thus using StandardScaler is preferred.\n"
      ]
    },
    {
      "cell_type": "markdown",
      "id": "c29892b5",
      "metadata": {
        "id": "c29892b5"
      },
      "source": [
        "Before we implement the scaler, we need to split the data into training and testing sets first.\n"
      ]
    },
    {
      "cell_type": "code",
      "execution_count": 42,
      "id": "fwCPjFvRvyO_",
      "metadata": {
        "colab": {
          "base_uri": "https://localhost:8080/"
        },
        "id": "fwCPjFvRvyO_",
        "outputId": "027cb3a5-a1e6-4a80-c2d0-6462ac025eec"
      },
      "outputs": [
        {
          "data": {
            "text/plain": [
              "(210,)"
            ]
          },
          "execution_count": 42,
          "metadata": {},
          "output_type": "execute_result"
        }
      ],
      "source": [
        "y.shape"
      ]
    },
    {
      "cell_type": "code",
      "execution_count": 43,
      "id": "04f3a4bf",
      "metadata": {
        "id": "04f3a4bf"
      },
      "outputs": [],
      "source": [
        "# TODO: Split the data into training and testing sets\n",
        "from sklearn.model_selection import train_test_split\n",
        "X_train, X_test, y_train, y_test = train_test_split(X, y, random_state=0)"
      ]
    },
    {
      "cell_type": "code",
      "execution_count": 44,
      "id": "f22529a6",
      "metadata": {
        "colab": {
          "base_uri": "https://localhost:8080/"
        },
        "id": "f22529a6",
        "outputId": "7f502ad8-e980-4612-a231-52e886cbeb74"
      },
      "outputs": [
        {
          "name": "stdout",
          "output_type": "stream",
          "text": [
            "Training feature matrix shape: (157, 7)\n",
            "Training target vector shape: (157,)\n"
          ]
        }
      ],
      "source": [
        "# TODO: Print the shape of the training feature matrix and target vector\n",
        "print(\"Training feature matrix shape:\", X_train.shape)\n",
        "print(\"Training target vector shape:\", y_train.shape)"
      ]
    },
    {
      "cell_type": "markdown",
      "id": "282cbc43",
      "metadata": {
        "id": "282cbc43"
      },
      "source": [
        "Now that we have our training data, we can implement our selected scaler.\n"
      ]
    },
    {
      "cell_type": "code",
      "execution_count": 45,
      "id": "ed75b036",
      "metadata": {
        "id": "ed75b036"
      },
      "outputs": [],
      "source": [
        "# TODO: Scale the data\n",
        "from sklearn.preprocessing import StandardScaler\n",
        "scaler = StandardScaler()\n",
        "X_train_scaled = scaler.fit_transform(X_train)\n",
        "X_test_scaled = scaler.transform(X_test)"
      ]
    },
    {
      "cell_type": "markdown",
      "id": "8cfa23f3",
      "metadata": {
        "id": "8cfa23f3"
      },
      "source": [
        "### Step 3: Model Selection\n"
      ]
    },
    {
      "cell_type": "markdown",
      "id": "773d0687",
      "metadata": {
        "id": "773d0687"
      },
      "source": [
        "The next step is to instantiate our selected model. In this case, we will be using `LogisticRegression()`\n"
      ]
    },
    {
      "cell_type": "code",
      "execution_count": 46,
      "id": "b79801bc",
      "metadata": {
        "id": "b79801bc"
      },
      "outputs": [],
      "source": [
        "# TODO: Instantiate model\n",
        "from sklearn.linear_model import LogisticRegression\n",
        "lr = LogisticRegression(random_state=0)"
      ]
    },
    {
      "cell_type": "markdown",
      "id": "2177add4",
      "metadata": {
        "id": "2177add4"
      },
      "source": [
        "### Step 4: Validation\n"
      ]
    },
    {
      "cell_type": "markdown",
      "id": "4092329e",
      "metadata": {
        "id": "4092329e"
      },
      "source": [
        "To validate the results, we need to use cross-validation. To make sure we are using the best hyperparmeters, we can use a grid search. The parameter grid has been provided below.\n"
      ]
    },
    {
      "cell_type": "code",
      "execution_count": 47,
      "id": "d3e5cfe7",
      "metadata": {
        "id": "d3e5cfe7"
      },
      "outputs": [],
      "source": [
        "param_grid = {'C': [0.01, 0.1, 1.0, 10.0],\n",
        "              'fit_intercept': [True, False]}"
      ]
    },
    {
      "cell_type": "code",
      "execution_count": 48,
      "id": "e0317e3f",
      "metadata": {
        "colab": {
          "base_uri": "https://localhost:8080/"
        },
        "id": "e0317e3f",
        "outputId": "9d42a990-0743-40ea-aedf-ef188d9f519c"
      },
      "outputs": [
        {
          "name": "stdout",
          "output_type": "stream",
          "text": [
            "Best parameters are: {'C': 10.0, 'fit_intercept': True}\n",
            "Best cross validation score: 0.9368951612903226\n",
            "Test-set score 0.9622641509433962\n"
          ]
        }
      ],
      "source": [
        "# TODO: Implement the grid search and print the best parameters, cross-validation score and test score\n",
        "from sklearn.model_selection import GridSearchCV\n",
        "grid = GridSearchCV(lr,         # model\n",
        "                    param_grid,  # hyperparameters\n",
        "                    cv=5,       # number of folds\n",
        "                    )\n",
        "grid.fit(X_train_scaled, y_train)\n",
        "print(\"Best parameters are:\", grid.best_params_)\n",
        "print(\"Best cross validation score:\", grid.best_score_)\n",
        "print(\"Test-set score\", grid.score(X_test_scaled, y_test))"
      ]
    },
    {
      "cell_type": "markdown",
      "id": "97cee662",
      "metadata": {
        "id": "97cee662"
      },
      "source": [
        "### Step 5: Visualize using PCA\n"
      ]
    },
    {
      "cell_type": "markdown",
      "id": "4eed3fd7",
      "metadata": {
        "id": "4eed3fd7"
      },
      "source": [
        "Now you can visualize the results from Step 4 using PCA. Use the best parameters from the previous step to predict the label for the testing data. For the plot, each data point must be colored based on the class label.\n"
      ]
    },
    {
      "cell_type": "code",
      "execution_count": 49,
      "id": "1dc2310c",
      "metadata": {
        "colab": {
          "base_uri": "https://localhost:8080/"
        },
        "id": "1dc2310c",
        "outputId": "900767f6-f8ff-4ea2-bf0a-53d9771bca43"
      },
      "outputs": [
        {
          "data": {
            "text/plain": [
              "array([1, 2, 1, 1, 3, 2, 2, 2, 2, 3, 1, 3, 1, 3, 2, 2, 3, 1, 1, 1, 3, 1,\n",
              "       1, 1, 2, 2, 2, 1, 3, 3, 2, 3, 2, 2, 3, 3, 3, 2, 1, 1, 3, 1, 2, 3,\n",
              "       1, 2, 2, 1, 1, 2, 1, 2, 3])"
            ]
          },
          "execution_count": 49,
          "metadata": {},
          "output_type": "execute_result"
        }
      ],
      "source": [
        "# TODO: Predict y labels using best estimator\n",
        "prediction = grid.best_estimator_.predict(X_test_scaled)\n",
        "prediction"
      ]
    },
    {
      "cell_type": "code",
      "execution_count": 50,
      "id": "6a3416d3",
      "metadata": {
        "id": "6a3416d3"
      },
      "outputs": [],
      "source": [
        "# TODO: Reduce dimensions of test data for plotting\n",
        "from sklearn.decomposition import PCA\n",
        "pca = PCA(n_components=2)   # reduces from 7 components to 2\n",
        "# fit and transform X_test_scaled using PCA and 2 components\n",
        "projected = pca.fit_transform(X_test_scaled)"
      ]
    },
    {
      "cell_type": "code",
      "execution_count": 51,
      "id": "5317451f",
      "metadata": {
        "colab": {
          "base_uri": "https://localhost:8080/",
          "height": 523
        },
        "id": "5317451f",
        "outputId": "dd2b985f-9fba-4334-f75b-d03a4e5832b6"
      },
      "outputs": [
        {
          "data": {
            "image/png": "[encoded data removed]",
            "text/plain": [
              "<Figure size 800x550 with 2 Axes>"
            ]
          },
          "metadata": {},
          "output_type": "display_data"
        }
      ],
      "source": [
        "# TODO: Plot test points colored by predicted label\n",
        "plt.figure()\n",
        "plt.scatter(x=projected[:, 0],  # first principal component\n",
        "            y=projected[:, 1],  # second principal component\n",
        "            c=prediction,       # colour each point based on its predicted class\n",
        "            cmap='viridis')     # colour scheme\n",
        "plt.title('Clustering Results Using Logistic Regression and PCA')\n",
        "plt.xlabel('First principal component')\n",
        "plt.ylabel('Second principal component')\n",
        "plt.colorbar()\n",
        "plt.show()"
      ]
    },
    {
      "cell_type": "markdown",
      "id": "296ea401",
      "metadata": {
        "id": "296ea401"
      },
      "source": [
        "#### Questions\n",
        "\n",
        "1. Did the logistic regression model work well for this dataset? Why would you make this conclusion?\n",
        "1. Did PCA work well for this model? How does this relate to the results from the model used?\n"
      ]
    },
    {
      "cell_type": "markdown",
      "id": "G5RHkQxRvyPH",
      "metadata": {
        "id": "G5RHkQxRvyPH"
      },
      "source": [
        "_Answers_\n",
        "\n",
        "1. Logistic regression model worked well for the dataset indicated by testing and training scores greater than 0.9. The training set produced a cross validated score of 0.94 and the testing set produced a score of 0.96. These scores are lower than 1.0 indicating that there is low bias in the model. The scores are quite close together indicating that the model has low variance.\n",
        "\n",
        "1. PCA worked well as it is showing similarly classified and coloured points grouped together indicating that the model is accurately clustering the samples based on the similaries found in each class. The results from PCA and the predictions from the logistic regression appear to correlate to each other, that is the plotted PCA with the predicted labels match nicely suggesting that both models could predict similar classes given a test set of data. Both logistic regression and PCA are meant for use on linear data.\n"
      ]
    },
    {
      "cell_type": "markdown",
      "id": "c88a3cf1",
      "metadata": {
        "id": "c88a3cf1"
      },
      "source": [
        "### Process Description\n",
        "\n",
        "Please describe the process you used to create your code. Cite any websites or generative AI tools used. You can use the following questions as guidance:\n",
        "\n",
        "1. Where did you source your code?\n",
        "1. In what order did you complete the steps?\n",
        "1. If you used generative AI, what prompts did you use? Did you need to modify the code at all? Why or why not?\n",
        "1. Did you have any challenges? If yes, what were they? If not, what helped you to be successful?\n"
      ]
    },
    {
      "cell_type": "markdown",
      "id": "d8336341",
      "metadata": {
        "id": "d8336341"
      },
      "source": [
        "_DESCRIBE YOUR PROCESS HERE_\n"
      ]
    },
    {
      "cell_type": "markdown",
      "id": "5B-Hch1fvyPK",
      "metadata": {
        "id": "5B-Hch1fvyPK"
      },
      "source": [
        "1. From the textbook (Introduction to Machine Learning with Python), class and lab examples. Sklearn website.\n",
        "\n",
        "-   https://www.freecodecamp.org/news/how-to-detect-outliers-in-machine-learning/\n",
        "\n",
        "2. Completed the steps in the outlined order: data exploration, splitting data, preprocessing including scaling, applying logistic regression model using grid search, validating the model, and visualizing the model using PCA.\n",
        "\n",
        "3. I did not use generative AI.\n",
        "\n",
        "4. Challenged by which scaler to use and when. Challenged by the interpretation of the PCA scatter plot. Looked into the lecture slides and textook for explaination and expanded my understanding of the explanation using google to get the same information explained in a way I understood.\n"
      ]
    },
    {
      "cell_type": "markdown",
      "id": "3bf578b1",
      "metadata": {
        "id": "3bf578b1"
      },
      "source": [
        "## Part 2. Implement clustering\n"
      ]
    },
    {
      "cell_type": "markdown",
      "id": "937cb37b",
      "metadata": {
        "id": "937cb37b"
      },
      "source": [
        "The agricultural company approaches you again because they lost all the labels for their data. Use the Kmeans clustering method to assign labels to the seeds dataset used in Part 1.\n"
      ]
    },
    {
      "cell_type": "markdown",
      "id": "980c62e1",
      "metadata": {
        "id": "980c62e1"
      },
      "source": [
        "### Step 1: Cluster using original data\n",
        "\n",
        "This part of the assignment asks you to implement Kmeans clustering using the orginal feature matrix (after scaling has been performed).\n"
      ]
    },
    {
      "cell_type": "code",
      "execution_count": 52,
      "id": "e2c441df",
      "metadata": {
        "id": "e2c441df"
      },
      "outputs": [],
      "source": [
        "# TODO: Scale feature matrix\n",
        "from sklearn.preprocessing import StandardScaler\n",
        "X = data.iloc[:, :-1]\n",
        "y = data.iloc[:, -1]\n",
        "\n",
        "scaler = StandardScaler()\n",
        "X_scaled = scaler.fit_transform(X)"
      ]
    },
    {
      "cell_type": "markdown",
      "id": "6efb7a1b",
      "metadata": {
        "id": "6efb7a1b"
      },
      "source": [
        "The first step is to use the elbow method to determine the optimal number of clusters. In this case, you can use the distortion metric.\n"
      ]
    },
    {
      "cell_type": "code",
      "execution_count": 53,
      "id": "5f85da0b",
      "metadata": {
        "colab": {
          "base_uri": "https://localhost:8080/",
          "height": 523
        },
        "id": "5f85da0b",
        "outputId": "7a3f8dea-ec56-418c-832c-1e566cb608cc"
      },
      "outputs": [
        {
          "data": {
            "image/png": "[encoded data removed]",
            "text/plain": [
              "<Figure size 800x550 with 1 Axes>"
            ]
          },
          "metadata": {},
          "output_type": "display_data"
        }
      ],
      "source": [
        "# TODO: Use the elbow method to determine the optimal number of clusters\n",
        "from sklearn.cluster import KMeans\n",
        "from yellowbrick.cluster.elbow import kelbow_visualizer\n",
        "km = KMeans(random_state=0,  # seed number\n",
        "            n_init=10       # default value, number of times k-means is fun with different centroid seeds\n",
        "            )\n",
        "visual = kelbow_visualizer(km,          # kmeans model\n",
        "                           X=X_scaled,  # feature matrix\n",
        "                           # range of values for k (number of clusters)\n",
        "                           k=(2, 10),\n",
        "                           metric=\"distortion\",\n",
        "                           timings=False\n",
        "                           )"
      ]
    },
    {
      "cell_type": "markdown",
      "id": "be361544",
      "metadata": {
        "id": "be361544"
      },
      "source": [
        "Next, implement Kmeans and calculate the following validation metrics:\n",
        "\n",
        "-   Silhouette score\n",
        "-   Calinski-Harabasz score\n",
        "-   Davies-Bouldin score\n"
      ]
    },
    {
      "cell_type": "code",
      "execution_count": 54,
      "id": "da40bf77",
      "metadata": {
        "id": "da40bf77"
      },
      "outputs": [],
      "source": [
        "# TODO: Implement K-means with the number of clusters determined in the previous step\n",
        "kmeans = KMeans(n_clusters=visual.elbow_value_,     # from elbow visualization\n",
        "                random_state=0,  # random seed\n",
        "                n_init=10       # default value\n",
        "                ).fit(X_scaled)  # fit to scaled feature matrix"
      ]
    },
    {
      "cell_type": "code",
      "execution_count": 55,
      "id": "085dc51c",
      "metadata": {
        "colab": {
          "base_uri": "https://localhost:8080/"
        },
        "id": "085dc51c",
        "outputId": "8f604870-0fde-4857-a751-854c49c7fc14"
      },
      "outputs": [
        {
          "name": "stdout",
          "output_type": "stream",
          "text": [
            "Silhouette score: 0.40072705527512986\n",
            "Calinski-Harabasz score: 249.7841749161647\n",
            "Davies-Bouldin score: 0.9278712249013426\n"
          ]
        }
      ],
      "source": [
        "# TODO: Calculate the three different validation metrics\n",
        "from sklearn.metrics import silhouette_score, calinski_harabasz_score, davies_bouldin_score\n",
        "\n",
        "silhouette = silhouette_score(X_scaled, kmeans.labels_)\n",
        "print(\"Silhouette score:\", silhouette)\n",
        "\n",
        "calinski_harabasz = calinski_harabasz_score(X_scaled, kmeans.labels_)\n",
        "print(\"Calinski-Harabasz score:\", calinski_harabasz)\n",
        "\n",
        "davies_bouldin = davies_bouldin_score(X_scaled, kmeans.labels_)\n",
        "print(\"Davies-Bouldin score:\", davies_bouldin)"
      ]
    },
    {
      "cell_type": "markdown",
      "id": "40e40c04",
      "metadata": {
        "id": "40e40c04"
      },
      "source": [
        "Plot the clustering results using PCA. Remember to color each data point based on the cluster label.\n"
      ]
    },
    {
      "cell_type": "code",
      "execution_count": 56,
      "id": "47012908",
      "metadata": {
        "colab": {
          "base_uri": "https://localhost:8080/",
          "height": 523
        },
        "id": "47012908",
        "outputId": "7614bd25-2bc2-4c6e-d8d5-d9d2c4479eed"
      },
      "outputs": [
        {
          "data": {
            "image/png": "[encoded data removed]",
            "text/plain": [
              "<Figure size 800x550 with 2 Axes>"
            ]
          },
          "metadata": {},
          "output_type": "display_data"
        }
      ],
      "source": [
        "# TODO: Plot clustering results\n",
        "pca = PCA(n_components=2)\n",
        "# fit and transform X_test_scaled using PCA and 2 components\n",
        "projected = pca.fit_transform(X_scaled)\n",
        "\n",
        "plt.figure()\n",
        "plt.scatter(x=projected[:, 0],  # first principal component\n",
        "            y=projected[:, 1],  # second principal component\n",
        "            c=y,                # colour each point based on its target class\n",
        "            cmap='viridis')     # colour scheme\n",
        "plt.title(\"Clustering Results Using PCA\")\n",
        "plt.xlabel('First principal component')\n",
        "plt.ylabel('Second principal component')\n",
        "plt.colorbar()\n",
        "plt.show()"
      ]
    },
    {
      "cell_type": "markdown",
      "id": "48df428e",
      "metadata": {
        "id": "48df428e"
      },
      "source": [
        "### Step 2: Cluster using PCA-transformed data\n",
        "\n",
        "Implement Kmeans clustering using PCA-transformed data. The first step is to use the explained variance ratio to find the number of components required to explain at least 95% of the variance.\n"
      ]
    },
    {
      "cell_type": "code",
      "execution_count": 57,
      "id": "de0a5d80",
      "metadata": {
        "colab": {
          "base_uri": "https://localhost:8080/",
          "height": 540
        },
        "id": "de0a5d80",
        "outputId": "9e469c91-6762-450f-d350-5dee08bfb07c"
      },
      "outputs": [
        {
          "name": "stdout",
          "output_type": "stream",
          "text": [
            "Number of principal components needed to achieve explained variance ratio of 0.95 is: 3\n",
            "Explained variance ration array: [7.18743027e-01 1.71081835e-01 9.68576341e-02 9.76635386e-03\n",
            " 2.67337271e-03 7.61720812e-04 1.16056686e-04]\n"
          ]
        },
        {
          "data": {
            "image/png": "[encoded data removed]",
            "text/plain": [
              "<Figure size 800x550 with 1 Axes>"
            ]
          },
          "metadata": {},
          "output_type": "display_data"
        }
      ],
      "source": [
        "# TODO: Find the number of principal components using explained variance ratio\n",
        "\n",
        "# putting desired explained variance directly into PCA instantiation\n",
        "pca = PCA(n_components=0.95).fit(X_scaled)\n",
        "print(\"Number of principal components needed to achieve explained variance ratio of 0.95 is:\", pca.n_components_)\n",
        "\n",
        "# print array with no PCA components selected\n",
        "pca = PCA().fit(X_scaled)\n",
        "print(\"Explained variance ration array:\", pca.explained_variance_ratio_)\n",
        "\n",
        "# graphically\n",
        "plt.figure()\n",
        "plt.plot(range(1, len(pca.explained_variance_ratio_) + 1),  # change from 0-based array index to 1-based human-readable\n",
        "         np.cumsum(pca.explained_variance_ratio_), marker='o')\n",
        "\n",
        "plt.xlabel('Number of Components')\n",
        "plt.ylabel('Cumulative Explained Variance')\n",
        "plt.title('Explained Variance by Different Principal Components')\n",
        "plt.axhline(y=0.95, color='r', linestyle='-')\n",
        "plt.show()"
      ]
    },
    {
      "cell_type": "markdown",
      "id": "8af06a41",
      "metadata": {
        "id": "8af06a41"
      },
      "source": [
        "Next, transform the data using PCA, implement Kmeans and calculate the three validation metrics used in the previous step.\n"
      ]
    },
    {
      "cell_type": "code",
      "execution_count": 58,
      "id": "3ed38b89",
      "metadata": {
        "id": "3ed38b89"
      },
      "outputs": [],
      "source": [
        "# TODO: Use PCA to transform the data\n",
        "pca = PCA(n_components=3)\n",
        "pca_result = pca.fit_transform(X_scaled)"
      ]
    },
    {
      "cell_type": "code",
      "execution_count": 59,
      "id": "cc8b981e",
      "metadata": {
        "id": "cc8b981e"
      },
      "outputs": [],
      "source": [
        "# TODO: Implement K-means with the transformed data\n",
        "kmeans = KMeans(n_clusters=visual.elbow_value_,     # from elbow visualization\n",
        "                random_state=0,  # random seed\n",
        "                n_init=10       # default value\n",
        "                ).fit(pca_result)"
      ]
    },
    {
      "cell_type": "code",
      "execution_count": 60,
      "id": "f5a3bf4b",
      "metadata": {
        "colab": {
          "base_uri": "https://localhost:8080/"
        },
        "id": "f5a3bf4b",
        "outputId": "a1cca8d7-f086-4152-b53e-dde7f626138f"
      },
      "outputs": [
        {
          "name": "stdout",
          "output_type": "stream",
          "text": [
            "Silhouette score: 0.4100823639350389\n",
            "Calinski-Harabasz score: 260.28850656356855\n",
            "Davies-Bouldin score: 0.9030688438741864\n"
          ]
        }
      ],
      "source": [
        "# TODO: Calculate the three different validation metrics\n",
        "silhouette2 = silhouette_score(pca_result, kmeans.labels_)\n",
        "print(\"Silhouette score:\", silhouette2)\n",
        "\n",
        "calinski_harabasz2 = calinski_harabasz_score(pca_result, kmeans.labels_)\n",
        "print(\"Calinski-Harabasz score:\", calinski_harabasz2)\n",
        "\n",
        "davies_bouldin2 = davies_bouldin_score(pca_result, kmeans.labels_)\n",
        "print(\"Davies-Bouldin score:\", davies_bouldin2)"
      ]
    },
    {
      "cell_type": "markdown",
      "id": "50eb5219",
      "metadata": {
        "id": "50eb5219"
      },
      "source": [
        "### Step 3: Display results\n",
        "\n",
        "Print the results for Steps 2 and 3 in a table. Include column and row labels\n"
      ]
    },
    {
      "cell_type": "code",
      "execution_count": 61,
      "id": "6c945947",
      "metadata": {
        "colab": {
          "base_uri": "https://localhost:8080/",
          "height": 109
        },
        "id": "6c945947",
        "outputId": "79899d1a-2dd6-4c3f-b1cd-d59672b7fbbc"
      },
      "outputs": [
        {
          "data": {
            "text/html": [
              "<div>\n",
              "<style scoped>\n",
              "    .dataframe tbody tr th:only-of-type {\n",
              "        vertical-align: middle;\n",
              "    }\n",
              "\n",
              "    .dataframe tbody tr th {\n",
              "        vertical-align: top;\n",
              "    }\n",
              "\n",
              "    .dataframe thead th {\n",
              "        text-align: right;\n",
              "    }\n",
              "</style>\n",
              "<table border=\"1\" class=\"dataframe\">\n",
              "  <thead>\n",
              "    <tr style=\"text-align: right;\">\n",
              "      <th></th>\n",
              "      <th>Silhouette Score</th>\n",
              "      <th>Calinski-Harabasz Score</th>\n",
              "      <th>Davies-Bouldin Score</th>\n",
              "    </tr>\n",
              "  </thead>\n",
              "  <tbody>\n",
              "    <tr>\n",
              "      <th>Cluster Using Original Data</th>\n",
              "      <td>0.400727</td>\n",
              "      <td>249.784175</td>\n",
              "      <td>0.927871</td>\n",
              "    </tr>\n",
              "    <tr>\n",
              "      <th>Cluster Using PCA-transformed Data</th>\n",
              "      <td>0.410082</td>\n",
              "      <td>260.288507</td>\n",
              "      <td>0.903069</td>\n",
              "    </tr>\n",
              "  </tbody>\n",
              "</table>\n",
              "</div>"
            ],
            "text/plain": [
              "                                    Silhouette Score  Calinski-Harabasz Score  \\\n",
              "Cluster Using Original Data                 0.400727               249.784175   \n",
              "Cluster Using PCA-transformed Data          0.410082               260.288507   \n",
              "\n",
              "                                    Davies-Bouldin Score  \n",
              "Cluster Using Original Data                     0.927871  \n",
              "Cluster Using PCA-transformed Data              0.903069  "
            ]
          },
          "execution_count": 61,
          "metadata": {},
          "output_type": "execute_result"
        }
      ],
      "source": [
        "# TODO: Display results\n",
        "results = pd.DataFrame()\n",
        "results_list = [[silhouette, calinski_harabasz, davies_bouldin], [\n",
        "    silhouette2, calinski_harabasz2, davies_bouldin2]]\n",
        "results = pd.DataFrame(results_list, columns=[\"Silhouette Score\", \"Calinski-Harabasz Score\", \"Davies-Bouldin Score\"], index=[\n",
        "                       'Cluster Using Original Data', 'Cluster Using PCA-transformed Data'])\n",
        "results"
      ]
    },
    {
      "cell_type": "markdown",
      "metadata": {},
      "source": [
        "> Silhouette score - ranges from -1 to 1. 0-1 means the values are well matched to the cluster. Negative values means that the values are not matched to the cluster.\n",
        "\n",
        "> Calinski-Harabasz score - the ratio of the sum of between-clusters dispersion and of inter-cluster dispersion for all clusters. Higher values are better.\n",
        "\n",
        "> Davies-Bouldin score - A lower score signifies better-defined clusters.\n"
      ]
    },
    {
      "cell_type": "markdown",
      "id": "e1086de9",
      "metadata": {
        "id": "e1086de9"
      },
      "source": [
        "#### Questions\n",
        "\n",
        "1. Did the optimal number of clusters make sense based on the context?\n",
        "1. Compare the PCA plot from Part 2 step 1 to the PCA plot from Part 1. Did we get similar results?\n",
        "1. How many components did you use for the PCA analysis? Did using PCA improve your results? Why or why not?\n"
      ]
    },
    {
      "cell_type": "markdown",
      "id": "RIlMfZ7y6cab",
      "metadata": {
        "id": "RIlMfZ7y6cab"
      },
      "source": [
        "_Answers_\n",
        "\n",
        "1. The number of clusters determined from the elbow method was 3. This makes sense as there are 3 classes in the data.\n",
        "\n",
        "1. We got similar results for the PCA plots in Part 1 and Part 2. The distribution of the clustered results look similar even though there is vastly more information and overlapping clusters in the second plot. Second plot was not split into testing and training sets like the data used in Part 1.\n",
        "\n",
        "1. 3 components were used to explain 95% of the variance. PCA slightly improved the results. Minor improvement using the silhouette score, minor improvement using the Calinski-Harabasz score, and the Davies-Bouldin Score suggests that the PCA slightly improved the definition of the clusters. It makes sense that the results slightly improved after determining the number of components to explain 95% of the variance as we originally were using a number of components that explained approximately 90% of the variance.\n"
      ]
    },
    {
      "cell_type": "markdown",
      "id": "521489ee",
      "metadata": {
        "id": "521489ee"
      },
      "source": [
        "### Process Description\n",
        "\n",
        "Please describe the process you used to create your code. Cite any websites or generative AI tools used. You can use the following questions as guidance:\n",
        "\n",
        "1. Where did you source your code?\n",
        "1. In what order did you complete the steps?\n",
        "1. If you used generative AI, what prompts did you use? Did you need to modify the code at all? Why or why not?\n",
        "1. Did you have any challenges? If yes, what were they? If not, what helped you to be successful?\n"
      ]
    },
    {
      "cell_type": "markdown",
      "id": "e4ae4b12",
      "metadata": {
        "id": "e4ae4b12"
      },
      "source": [
        "_DESCRIBE YOUR PROCESS HERE_\n"
      ]
    },
    {
      "cell_type": "markdown",
      "id": "YCk--ww-zlwt",
      "metadata": {
        "id": "YCk--ww-zlwt"
      },
      "source": [
        "1. From the textbook (Introduction to Machine Learning with Python), class and lab examples. Sklearn website.\n",
        "\n",
        "-   n-components graph: https://mikulskibartosz.name/pca-how-to-choose-the-number-of-components\n",
        "\n",
        "2. Completed the steps in the outlined order: Scaled original data, determined the optimal number of clusters using the elbow method, implemented KMeans then PCA with 2 components. Then determined the number of components to account for 95% variance and implemented PCA with 3 components and KMeans\n",
        "\n",
        "3. I did not use generative AI.\n",
        "\n",
        "4. Challenged by understanding what the different scores do and mean. Looked to the course material and confirmed using google to get the same information explained in another way.\n"
      ]
    }
  ],
  "metadata": {
    "colab": {
      "provenance": []
    },
    "kernelspec": {
      "display_name": "Python 3 (ipykernel)",
      "language": "python",
      "name": "python3"
    },
    "language_info": {
      "codemirror_mode": {
        "name": "ipython",
        "version": 3
      },
      "file_extension": ".py",
      "mimetype": "text/x-python",
      "name": "python",
      "nbconvert_exporter": "python",
      "pygments_lexer": "ipython3",
      "version": "3.11.7"
    }
  },
  "nbformat": 4,
  "nbformat_minor": 5
}
