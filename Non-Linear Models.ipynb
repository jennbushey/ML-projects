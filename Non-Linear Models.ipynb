{
 "cells": [
  {
   "cell_type": "markdown",
   "id": "92778525",
   "metadata": {},
   "source": [
    "# Non-Linear Models and Validation Metrics\n"
   ]
  },
  {
   "cell_type": "markdown",
   "id": "ce31b39a",
   "metadata": {},
   "source": [
    "### In this assignment, you will need to write code that uses non-linear models to perform classification and regression tasks. You will also be asked to describe the process by which you came up with the code. More details can be found below. Please cite any websites or AI tools that you used to help you with this assignment.\n"
   ]
  },
  {
   "cell_type": "markdown",
   "id": "cf275ca7",
   "metadata": {},
   "source": [
    "### Step 0: Import Libraries\n"
   ]
  },
  {
   "cell_type": "code",
   "execution_count": 58,
   "id": "2b67a661",
   "metadata": {},
   "outputs": [],
   "source": [
    "import numpy as np\n",
    "import pandas as pd\n",
    "import matplotlib.pyplot as plt\n",
    "import seaborn as sns"
   ]
  },
  {
   "cell_type": "markdown",
   "id": "5ee2d2c3",
   "metadata": {},
   "source": [
    "## Part 1: Regression\n",
    "\n",
    "For this section, we will be continuing with the concrete example from yellowbrick.\n"
   ]
  },
  {
   "cell_type": "markdown",
   "id": "8219f163",
   "metadata": {},
   "source": [
    "### Step 1: Data Input\n",
    "\n",
    "The data used for this task can be downloaded using the yellowbrick library:\n",
    "https://www.scikit-yb.org/en/latest/api/datasets/concrete.html\n",
    "\n",
    "Use the yellowbrick function `load_concrete()` to load the concrete dataset into the feature matrix `X` and target vector `y`.\n"
   ]
  },
  {
   "cell_type": "code",
   "execution_count": 59,
   "id": "2af8bd32",
   "metadata": {},
   "outputs": [],
   "source": [
    "# TO DO: Import concrete dataset from yellowbrick library\n",
    "from yellowbrick.datasets import load_concrete\n",
    "X, y = load_concrete()"
   ]
  },
  {
   "cell_type": "markdown",
   "id": "42fea4cc",
   "metadata": {},
   "source": [
    "### Step 2: Data Processing\n",
    "\n",
    "Data processing was completed in the previous assignment. No need to repeat here.\n"
   ]
  },
  {
   "cell_type": "markdown",
   "id": "2a245d00",
   "metadata": {},
   "source": [
    "### Step 3: Implement Machine Learning Model\n",
    "\n",
    "1. Import the Decision Tree, Random Forest and Gradient Boosting Machines regression models from sklearn\n",
    "2. Instantiate the three models with `max_depth = 5`. Are there any other parameters that you will need to set?\n",
    "3. Implement each machine learning model with `X` and `y`\n"
   ]
  },
  {
   "cell_type": "markdown",
   "id": "3f994e31",
   "metadata": {},
   "source": [
    "### Step 4: Validate Model\n",
    "\n",
    "Calculate the average training and validation accuracy using mean squared error with cross-validation. To do this, you will need to set `scoring='neg_mean_squared_error'` in your `cross_validate` function and negate the results (multiply by -1)\n"
   ]
  },
  {
   "cell_type": "markdown",
   "id": "5fc3f7a8",
   "metadata": {},
   "source": [
    "### Step 5: Visualize Results\n",
    "\n",
    "1. Create a pandas DataFrame `results` with columns: Training accuracy and Validation accuracy, and index: DT, RF and GB\n",
    "2. Add the accuracy results to the `results` DataFrame\n",
    "3. Print `results`\n"
   ]
  },
  {
   "cell_type": "code",
   "execution_count": 60,
   "id": "fdc93a78",
   "metadata": {},
   "outputs": [
    {
     "data": {
      "text/html": [
       "<div>\n",
       "<style scoped>\n",
       "    .dataframe tbody tr th:only-of-type {\n",
       "        vertical-align: middle;\n",
       "    }\n",
       "\n",
       "    .dataframe tbody tr th {\n",
       "        vertical-align: top;\n",
       "    }\n",
       "\n",
       "    .dataframe thead th {\n",
       "        text-align: right;\n",
       "    }\n",
       "</style>\n",
       "<table border=\"1\" class=\"dataframe\">\n",
       "  <thead>\n",
       "    <tr style=\"text-align: right;\">\n",
       "      <th></th>\n",
       "      <th>Training Accuracy</th>\n",
       "      <th>Validation Accuracy</th>\n",
       "    </tr>\n",
       "  </thead>\n",
       "  <tbody>\n",
       "    <tr>\n",
       "      <th>DT</th>\n",
       "      <td>47.279761</td>\n",
       "      <td>73.447331</td>\n",
       "    </tr>\n",
       "    <tr>\n",
       "      <th>RF</th>\n",
       "      <td>29.576135</td>\n",
       "      <td>45.052441</td>\n",
       "    </tr>\n",
       "    <tr>\n",
       "      <th>GB</th>\n",
       "      <td>3.37944</td>\n",
       "      <td>22.819636</td>\n",
       "    </tr>\n",
       "  </tbody>\n",
       "</table>\n",
       "</div>"
      ],
      "text/plain": [
       "   Training Accuracy Validation Accuracy\n",
       "DT         47.279761           73.447331\n",
       "RF         29.576135           45.052441\n",
       "GB           3.37944           22.819636"
      ]
     },
     "execution_count": 60,
     "metadata": {},
     "output_type": "execute_result"
    }
   ],
   "source": [
    "# TO DO: ADD YOUR CODE HERE FOR STEPS 3-5\n",
    "# Note: for any random state parameters, you can use random_state = 0\n",
    "# HINT: USING A LOOP TO STORE THE DATA IN YOUR RESULTS DATAFRAME WILL BE MORE EFFICIENT\n",
    "from sklearn.model_selection import cross_validate\n",
    "from sklearn.tree import DecisionTreeRegressor\n",
    "from sklearn.ensemble import RandomForestRegressor\n",
    "from sklearn.ensemble import GradientBoostingRegressor\n",
    "from sklearn.model_selection import train_test_split\n",
    "\n",
    "# Create training and test sets\n",
    "X_train, X_test, y_train, y_test = train_test_split(X, y, random_state=0)\n",
    "\n",
    "# Verify training and testing data have the same number of data points\n",
    "# print(X_train.shape)\n",
    "# print(y_train.shape)\n",
    "\n",
    "results = pd.DataFrame(index=[\"DT\", \"RF\", \"GB\"], columns=[\n",
    "                       \"Training Accuracy\", \"Validation Accuracy\"])\n",
    "\n",
    "# Decision Tree\n",
    "tree = DecisionTreeRegressor(random_state=0, max_depth=5)\n",
    "\n",
    "# Random Forest\n",
    "forest = RandomForestRegressor(random_state=0, max_depth=5)\n",
    "\n",
    "# Gradient Boosting\n",
    "gbrt = GradientBoostingRegressor(random_state=0, max_depth=5)\n",
    "\n",
    "classification = (tree, forest, gbrt)\n",
    "i = 0\n",
    "for reg in classification:\n",
    "    # Only use training data for cross-validation\n",
    "    score = cross_validate(\n",
    "        reg, X_train, y_train, scoring='neg_mean_squared_error', return_train_score=True)\n",
    "    training_accuracy = score['train_score'].mean()*-1\n",
    "    validation_accuracy = score['test_score'].mean()*-1\n",
    "    results.iloc[i] = [training_accuracy, validation_accuracy]\n",
    "    i = i+1\n",
    "\n",
    "results"
   ]
  },
  {
   "cell_type": "markdown",
   "id": "31715a9d",
   "metadata": {},
   "source": [
    "Repeat the step above to print the R2 score instead of the mean-squared error. For this case, you can use `scoring='r2'`\n"
   ]
  },
  {
   "cell_type": "code",
   "execution_count": 61,
   "id": "83539f47",
   "metadata": {},
   "outputs": [
    {
     "data": {
      "text/html": [
       "<div>\n",
       "<style scoped>\n",
       "    .dataframe tbody tr th:only-of-type {\n",
       "        vertical-align: middle;\n",
       "    }\n",
       "\n",
       "    .dataframe tbody tr th {\n",
       "        vertical-align: top;\n",
       "    }\n",
       "\n",
       "    .dataframe thead th {\n",
       "        text-align: right;\n",
       "    }\n",
       "</style>\n",
       "<table border=\"1\" class=\"dataframe\">\n",
       "  <thead>\n",
       "    <tr style=\"text-align: right;\">\n",
       "      <th></th>\n",
       "      <th>Training Accuracy</th>\n",
       "      <th>Validation Accuracy</th>\n",
       "    </tr>\n",
       "  </thead>\n",
       "  <tbody>\n",
       "    <tr>\n",
       "      <th>DT</th>\n",
       "      <td>0.834465</td>\n",
       "      <td>0.738697</td>\n",
       "    </tr>\n",
       "    <tr>\n",
       "      <th>RF</th>\n",
       "      <td>0.896561</td>\n",
       "      <td>0.840951</td>\n",
       "    </tr>\n",
       "    <tr>\n",
       "      <th>GB</th>\n",
       "      <td>0.988171</td>\n",
       "      <td>0.919348</td>\n",
       "    </tr>\n",
       "  </tbody>\n",
       "</table>\n",
       "</div>"
      ],
      "text/plain": [
       "   Training Accuracy Validation Accuracy\n",
       "DT          0.834465            0.738697\n",
       "RF          0.896561            0.840951\n",
       "GB          0.988171            0.919348"
      ]
     },
     "execution_count": 61,
     "metadata": {},
     "output_type": "execute_result"
    }
   ],
   "source": [
    "i = 0\n",
    "for reg in classification:\n",
    "    score = cross_validate(reg, X_train, y_train,\n",
    "                           scoring='r2', return_train_score=True)\n",
    "    training_accuracy = score['train_score'].mean()\n",
    "    validation_accuracy = score['test_score'].mean()\n",
    "    results.iloc[i] = [training_accuracy, validation_accuracy]\n",
    "    i = i+1\n",
    "results"
   ]
  },
  {
   "cell_type": "markdown",
   "id": "a5257a98",
   "metadata": {},
   "source": [
    "### Questions (6 marks)\n",
    "\n",
    "1. How do these results compare to the results using a linear model in the previous assignment? Use values.\n",
    "1. Out of the models you tested, which model would you select for this dataset and why?\n",
    "1. If you wanted to increase the accuracy of the tree-based models, what would you do? Provide two suggestions.\n",
    "\n",
    "_ANSWER HERE_\n",
    "\n",
    "1. In the previous assignment, using a linear model, we saw that the MSE score was 111.36 training and 95.90 testing. The linear model performed much worse than any of the non-linear methods where our MSE training values ranged from 47.3(DT) to 3.4(GB) and our MSE validation values ranged from 73.4 (DT) to 22.8 (GB). This is a significant improvement and suggests the concrete data better fits a non-linear model. For the R2 evaluation, the linear model had training accuracy of 0.61 and validation accuracy of 0.62. We believed this was poor fit of the model and suggested underfitting. With the non-linear models, we see training accuracy from 0.83 (DT) to 0.99 (GB) and validation accuracy from 0.74 (DT) to 0.92 (GB). These values are a great improvement and the lower validation score than training score suggests the models are no longer underfitting the data.\n",
    "\n",
    "2. I would select the Gradient Boosting model for this dataset. Out of all the models, the gradient boosting performed the best in both the MSE and R2 analysis.\n",
    "\n",
    "    The MSE on the training and validation sets for gradient boosting were lower than the other sets (13.0 training score and 28.5 validation score for gradient boosting vs 29.6 training score and 45.1 validation score for the random forest regression). An ideal MSE score would be zero so the lower score is \"better\" and the gradient boosting model is closer to zero than both the random forest and decision tree models.\n",
    "\n",
    "    A perfect R2 score is 1.0 so we are looking for the highest R2 score to indicate the bets fit for the model. Graident boosting has a 0.95 training score and 0.90 validation score and the next closest score was random forest model with 0.89 training score and 0.84 validation score. These values indicate that the gradient boosting model is a good fit for the concrete data.\n",
    "\n",
    "3. To increase the accuracy of the tree-based models, I would:\n",
    "\n",
    "    a. add max_leaf_nodes parameter.\n",
    "\n",
    "    Adding maximum leaf nodes parameter works in a similar way to restricting the depth of the tree to reduce the likelihood of achieving pure leaves in a way that would allow for the complexity of the model to increase where it is truly needed while restricting the model from completely overfitting.\n",
    "\n",
    "    b. increase the size of the dataset / collect more data\n",
    "\n",
    "    Increasing the dataset may increase accuracy as more varied data points would allow for a better fit of the model to the data. This dataset has only 1030 data points and 8 features (plus one target feature) and this non-linear relationship may benefit from more points or more features to better model the relationship.\n"
   ]
  },
  {
   "cell_type": "markdown",
   "id": "37b238f4",
   "metadata": {},
   "source": [
    "### Process Description\n",
    "\n",
    "Please describe the process you used to create your code. Cite any websites or generative AI tools used. You can use the following questions as guidance:\n",
    "\n",
    "1. Where did you source your code?\n",
    "1. In what order did you complete the steps?\n",
    "1. If you used generative AI, what prompts did you use? Did you need to modify the code at all? Why or why not?\n",
    "1. Did you have any challenges? If yes, what were they? If not, what helped you to be successful?\n"
   ]
  },
  {
   "cell_type": "markdown",
   "id": "93097bfe",
   "metadata": {},
   "source": [
    "_DESCRIBE YOUR PROCESS HERE_\n",
    "\n",
    "1.  Sourced code from:\n",
    "\n",
    "-   course notes, course jupyter notebooks\n",
    "-   course textbook (Introduction to Machine Learning with Python).\n",
    "-   sklearn website: https://scikit-learn.org/stable/modules/generated/sklearn.model_selection.cross_val_score.html\n",
    "-   stack overflow, DataConversionWarning: https://stackoverflow.com/questions/34165731/a-column-vector-y-was-passed-when-a-1d-array-was-expected\n",
    "\n",
    "2. Completed the steps in the order written as instructed. Steps:\n",
    "\n",
    "-   data input - load concrete dataset\n",
    "-   ML model and validation\n",
    "\n",
    "    -   applied a Decision Tree model and calculated training and validation scores using .score\n",
    "    -   applied Random Forest model and calculated training and validation scores using .score\n",
    "    -   applied Gradient Boosting model and realized that we wanted MSE accuracy score not R2 as provided in .score.\n",
    "    -   replaced decision tree and random forest training and validation accuracy score calculations with negative MSE cross-validation scoring.\n",
    "    -   calculated the mean of the train_score and test_score of the cross validation as default parameters performs 3-fold cross validation producing a list of three accuracy scores for the one model. The mean represents the average of these three accuracy scores.\n",
    "    -   applied Gradient Boosting model and calculated training and validation scores using cross-validation and negative MSE scoring.\n",
    "    -   created loop for duplicate calculations and deleted redundant code\n",
    "\n",
    "3. Did not use generative AI.\n",
    "4. Challenged by my own reading comprehension. Textbook uses classification for their examples and the question was for regression models. It took a minute to figure out if the heading in the assignment was wrong or if we were actually doing regression in this part.\n"
   ]
  },
  {
   "cell_type": "markdown",
   "id": "f7c6de86",
   "metadata": {},
   "source": [
    "## Part 2: Classification\n",
    "\n",
    "You have been asked to develop code that can help the user classify different wine samples. Following the machine learning workflow described in class, write the relevant code in each of the steps below:\n"
   ]
  },
  {
   "cell_type": "markdown",
   "id": "5f9d33a8",
   "metadata": {},
   "source": [
    "### Step 1: Data Input\n",
    "\n",
    "The data used for this task can be downloaded from UCI: https://archive.ics.uci.edu/dataset/109/wine\n",
    "\n",
    "Use the pandas library to load the dataset. You must define the column headers if they are not included in the dataset\n",
    "\n",
    "You will need to split the dataset into feature matrix `X` and target vector `y`. Which column represents the target vector?\n",
    "\n",
    "Print the size and type of `X` and `y`\n"
   ]
  },
  {
   "cell_type": "code",
   "execution_count": 62,
   "id": "33583c67",
   "metadata": {},
   "outputs": [
    {
     "name": "stdout",
     "output_type": "stream",
     "text": [
      "The size of X is: (178, 13) and is of type <class 'pandas.core.frame.DataFrame'>\n",
      "The size of y is: (178, 1) and is of type <class 'pandas.core.frame.DataFrame'>\n"
     ]
    }
   ],
   "source": [
    "# TO DO: Import wine dataset\n",
    "\n",
    "# Followed the import in python instructions for the dataset shown when following the above link.\n",
    "# pip install ucimlrepo\n",
    "from ucimlrepo import fetch_ucirepo\n",
    "\n",
    "# fetch dataset\n",
    "wine = fetch_ucirepo(id=109)\n",
    "\n",
    "# data (as pandas dataframes)\n",
    "X = wine.data.features\n",
    "y = wine.data.targets  # y target vector is the class column\n",
    "\n",
    "print(f\"The size of X is: {X.shape} and is of type {type(X)}\")\n",
    "print(f\"The size of y is: {y.shape} and is of type {type(y)}\")"
   ]
  },
  {
   "cell_type": "markdown",
   "id": "156db208",
   "metadata": {},
   "source": [
    "### Step 2: Data Processing\n"
   ]
  },
  {
   "cell_type": "markdown",
   "id": "a28af110",
   "metadata": {},
   "source": [
    "Print the first five rows of the dataset to inspect:\n"
   ]
  },
  {
   "cell_type": "code",
   "execution_count": 63,
   "id": "ea266921",
   "metadata": {},
   "outputs": [
    {
     "data": {
      "text/html": [
       "<div>\n",
       "<style scoped>\n",
       "    .dataframe tbody tr th:only-of-type {\n",
       "        vertical-align: middle;\n",
       "    }\n",
       "\n",
       "    .dataframe tbody tr th {\n",
       "        vertical-align: top;\n",
       "    }\n",
       "\n",
       "    .dataframe thead th {\n",
       "        text-align: right;\n",
       "    }\n",
       "</style>\n",
       "<table border=\"1\" class=\"dataframe\">\n",
       "  <thead>\n",
       "    <tr style=\"text-align: right;\">\n",
       "      <th></th>\n",
       "      <th>Alcohol</th>\n",
       "      <th>Malicacid</th>\n",
       "      <th>Ash</th>\n",
       "      <th>Alcalinity_of_ash</th>\n",
       "      <th>Magnesium</th>\n",
       "      <th>Total_phenols</th>\n",
       "      <th>Flavanoids</th>\n",
       "      <th>Nonflavanoid_phenols</th>\n",
       "      <th>Proanthocyanins</th>\n",
       "      <th>Color_intensity</th>\n",
       "      <th>Hue</th>\n",
       "      <th>0D280_0D315_of_diluted_wines</th>\n",
       "      <th>Proline</th>\n",
       "    </tr>\n",
       "  </thead>\n",
       "  <tbody>\n",
       "    <tr>\n",
       "      <th>0</th>\n",
       "      <td>14.23</td>\n",
       "      <td>1.71</td>\n",
       "      <td>2.43</td>\n",
       "      <td>15.6</td>\n",
       "      <td>127</td>\n",
       "      <td>2.80</td>\n",
       "      <td>3.06</td>\n",
       "      <td>0.28</td>\n",
       "      <td>2.29</td>\n",
       "      <td>5.64</td>\n",
       "      <td>1.04</td>\n",
       "      <td>3.92</td>\n",
       "      <td>1065</td>\n",
       "    </tr>\n",
       "    <tr>\n",
       "      <th>1</th>\n",
       "      <td>13.20</td>\n",
       "      <td>1.78</td>\n",
       "      <td>2.14</td>\n",
       "      <td>11.2</td>\n",
       "      <td>100</td>\n",
       "      <td>2.65</td>\n",
       "      <td>2.76</td>\n",
       "      <td>0.26</td>\n",
       "      <td>1.28</td>\n",
       "      <td>4.38</td>\n",
       "      <td>1.05</td>\n",
       "      <td>3.40</td>\n",
       "      <td>1050</td>\n",
       "    </tr>\n",
       "    <tr>\n",
       "      <th>2</th>\n",
       "      <td>13.16</td>\n",
       "      <td>2.36</td>\n",
       "      <td>2.67</td>\n",
       "      <td>18.6</td>\n",
       "      <td>101</td>\n",
       "      <td>2.80</td>\n",
       "      <td>3.24</td>\n",
       "      <td>0.30</td>\n",
       "      <td>2.81</td>\n",
       "      <td>5.68</td>\n",
       "      <td>1.03</td>\n",
       "      <td>3.17</td>\n",
       "      <td>1185</td>\n",
       "    </tr>\n",
       "    <tr>\n",
       "      <th>3</th>\n",
       "      <td>14.37</td>\n",
       "      <td>1.95</td>\n",
       "      <td>2.50</td>\n",
       "      <td>16.8</td>\n",
       "      <td>113</td>\n",
       "      <td>3.85</td>\n",
       "      <td>3.49</td>\n",
       "      <td>0.24</td>\n",
       "      <td>2.18</td>\n",
       "      <td>7.80</td>\n",
       "      <td>0.86</td>\n",
       "      <td>3.45</td>\n",
       "      <td>1480</td>\n",
       "    </tr>\n",
       "    <tr>\n",
       "      <th>4</th>\n",
       "      <td>13.24</td>\n",
       "      <td>2.59</td>\n",
       "      <td>2.87</td>\n",
       "      <td>21.0</td>\n",
       "      <td>118</td>\n",
       "      <td>2.80</td>\n",
       "      <td>2.69</td>\n",
       "      <td>0.39</td>\n",
       "      <td>1.82</td>\n",
       "      <td>4.32</td>\n",
       "      <td>1.04</td>\n",
       "      <td>2.93</td>\n",
       "      <td>735</td>\n",
       "    </tr>\n",
       "  </tbody>\n",
       "</table>\n",
       "</div>"
      ],
      "text/plain": [
       "   Alcohol  Malicacid   Ash  Alcalinity_of_ash  Magnesium  Total_phenols  \\\n",
       "0    14.23       1.71  2.43               15.6        127           2.80   \n",
       "1    13.20       1.78  2.14               11.2        100           2.65   \n",
       "2    13.16       2.36  2.67               18.6        101           2.80   \n",
       "3    14.37       1.95  2.50               16.8        113           3.85   \n",
       "4    13.24       2.59  2.87               21.0        118           2.80   \n",
       "\n",
       "   Flavanoids  Nonflavanoid_phenols  Proanthocyanins  Color_intensity   Hue  \\\n",
       "0        3.06                  0.28             2.29             5.64  1.04   \n",
       "1        2.76                  0.26             1.28             4.38  1.05   \n",
       "2        3.24                  0.30             2.81             5.68  1.03   \n",
       "3        3.49                  0.24             2.18             7.80  0.86   \n",
       "4        2.69                  0.39             1.82             4.32  1.04   \n",
       "\n",
       "   0D280_0D315_of_diluted_wines  Proline  \n",
       "0                          3.92     1065  \n",
       "1                          3.40     1050  \n",
       "2                          3.17     1185  \n",
       "3                          3.45     1480  \n",
       "4                          2.93      735  "
      ]
     },
     "execution_count": 63,
     "metadata": {},
     "output_type": "execute_result"
    }
   ],
   "source": [
    "# TO DO: ADD YOUR CODE HERE\n",
    "X.head()"
   ]
  },
  {
   "cell_type": "markdown",
   "id": "834fc8fe",
   "metadata": {},
   "source": [
    "Check to see if there are any missing values in the dataset. If necessary, select an appropriate method to fill-in the missing values\n"
   ]
  },
  {
   "cell_type": "code",
   "execution_count": 64,
   "id": "97c6e9dc",
   "metadata": {},
   "outputs": [
    {
     "name": "stdout",
     "output_type": "stream",
     "text": [
      "Alcohol                         0\n",
      "Malicacid                       0\n",
      "Ash                             0\n",
      "Alcalinity_of_ash               0\n",
      "Magnesium                       0\n",
      "Total_phenols                   0\n",
      "Flavanoids                      0\n",
      "Nonflavanoid_phenols            0\n",
      "Proanthocyanins                 0\n",
      "Color_intensity                 0\n",
      "Hue                             0\n",
      "0D280_0D315_of_diluted_wines    0\n",
      "Proline                         0\n",
      "dtype: int64\n",
      "\n",
      "There are 0 missing values in the dataset.\n"
     ]
    }
   ],
   "source": [
    "# TO DO: ADD YOUR CODE HERE\n",
    "print(X.isna().sum())  # no missing values in the dataset\n",
    "print(f\"\\nThere are {X.isna().sum().sum()} missing values in the dataset.\")"
   ]
  },
  {
   "cell_type": "markdown",
   "id": "070956af",
   "metadata": {},
   "source": [
    "How many samples do we have of each type of wine?\n"
   ]
  },
  {
   "cell_type": "code",
   "execution_count": 65,
   "id": "b37a6fd9",
   "metadata": {},
   "outputs": [
    {
     "name": "stdout",
     "output_type": "stream",
     "text": [
      "There are 71 samples of class 2 wine. \n",
      "There are 59 samples of class 1 wine. \n",
      "There are 48 samples of class 3 wine. \n"
     ]
    }
   ],
   "source": [
    "# TO DO: ADD YOUR CODE HERE\n",
    "samples = y.value_counts()\n",
    "for i, j in samples.items():\n",
    "    print(\"There are {} samples of class {} wine. \".format(j, *i))"
   ]
  },
  {
   "cell_type": "markdown",
   "id": "70e6c46f",
   "metadata": {},
   "source": [
    "### Step 3: Implement Machine Learning Model\n",
    "\n",
    "1. Import `SVC` and `DecisionTreeClassifier` from sklearn\n",
    "2. Instantiate models as `SVC()` and `DecisionTreeClassifier(max_depth = 3)`\n",
    "3. Implement the machine learning model with `X` and `y`\n"
   ]
  },
  {
   "cell_type": "markdown",
   "id": "0870b0d2",
   "metadata": {},
   "source": [
    "### Step 4: Validate Model\n",
    "\n",
    "Calculate the average training and validation accuracy using `cross_validate` for the two different models listed in Step 3. For this case, use `scoring='accuracy'`\n"
   ]
  },
  {
   "cell_type": "markdown",
   "id": "bb0bbd83",
   "metadata": {},
   "source": [
    "### Step 5: Visualize Results\n",
    "\n",
    "#### Step 5.1: Compare Models\n",
    "\n",
    "1. Create a pandas DataFrame `results` with columns: Training accuracy and Validation accuracy\n",
    "2. Add the data size, training and validation accuracy for each dataset to the `results` DataFrame\n",
    "3. Print `results`\n"
   ]
  },
  {
   "cell_type": "code",
   "execution_count": 66,
   "id": "be4b5c0a",
   "metadata": {},
   "outputs": [
    {
     "data": {
      "text/html": [
       "<div>\n",
       "<style scoped>\n",
       "    .dataframe tbody tr th:only-of-type {\n",
       "        vertical-align: middle;\n",
       "    }\n",
       "\n",
       "    .dataframe tbody tr th {\n",
       "        vertical-align: top;\n",
       "    }\n",
       "\n",
       "    .dataframe thead th {\n",
       "        text-align: right;\n",
       "    }\n",
       "</style>\n",
       "<table border=\"1\" class=\"dataframe\">\n",
       "  <thead>\n",
       "    <tr style=\"text-align: right;\">\n",
       "      <th></th>\n",
       "      <th>X Size</th>\n",
       "      <th>y Size</th>\n",
       "      <th>Training Accuracy</th>\n",
       "      <th>Validation Accuracy</th>\n",
       "    </tr>\n",
       "  </thead>\n",
       "  <tbody>\n",
       "    <tr>\n",
       "      <th>SVC</th>\n",
       "      <td>(133, 13)</td>\n",
       "      <td>(133, 1)</td>\n",
       "      <td>0.680427</td>\n",
       "      <td>0.676638</td>\n",
       "    </tr>\n",
       "    <tr>\n",
       "      <th>DT</th>\n",
       "      <td>(133, 13)</td>\n",
       "      <td>(133, 1)</td>\n",
       "      <td>0.994357</td>\n",
       "      <td>0.894017</td>\n",
       "    </tr>\n",
       "  </tbody>\n",
       "</table>\n",
       "</div>"
      ],
      "text/plain": [
       "        X Size    y Size Training Accuracy Validation Accuracy\n",
       "SVC  (133, 13)  (133, 1)          0.680427            0.676638\n",
       "DT   (133, 13)  (133, 1)          0.994357            0.894017"
      ]
     },
     "execution_count": 66,
     "metadata": {},
     "output_type": "execute_result"
    }
   ],
   "source": [
    "# TO DO: ADD YOUR CODE HERE FOR STEPS 3-5\n",
    "# Note: for any random state parameters, you can use random_state = 0\n",
    "# HINT: USING A LOOP TO STORE THE DATA IN YOUR RESULTS DATAFRAME WILL BE MORE EFFICIENT\n",
    "from sklearn.svm import SVC\n",
    "from sklearn.tree import DecisionTreeClassifier\n",
    "from sklearn.model_selection import cross_validate\n",
    "from sklearn.model_selection import train_test_split\n",
    "\n",
    "results = pd.DataFrame(index=[\"SVC\", \"DT\"], columns=[\n",
    "                       \"X Size\", \"y Size\", \"Training Accuracy\", \"Validation Accuracy\"])\n",
    "\n",
    "# split data to keep the testing data completely separate from the model\n",
    "X_train, X_test, y_train, y_test = train_test_split(X, y, random_state=0)\n",
    "\n",
    "# SVC\n",
    "svc = SVC()\n",
    "\n",
    "# Decision Tree\n",
    "tree = DecisionTreeClassifier(random_state=0, max_depth=3)\n",
    "\n",
    "classification = (svc, tree)\n",
    "\n",
    "i = 0\n",
    "for reg in classification:\n",
    "    score = cross_validate(reg, X_train, y_train.values.ravel(\n",
    "    ), scoring='accuracy', return_train_score=True)\n",
    "    training_accuracy = score['train_score'].mean()\n",
    "    validation_accuracy = score['test_score'].mean()\n",
    "    results.iloc[i] = [X_train.shape, y_train.shape,\n",
    "                       training_accuracy, validation_accuracy]\n",
    "    i = i+1\n",
    "results"
   ]
  },
  {
   "cell_type": "markdown",
   "id": "f2e17878",
   "metadata": {},
   "source": [
    "#### Step 5.2: Visualize Classification Errors\n",
    "\n",
    "Which method gave the highest accuracy? Use this method to print the confusion matrix and classification report:\n"
   ]
  },
  {
   "cell_type": "code",
   "execution_count": 67,
   "id": "44b091a4",
   "metadata": {},
   "outputs": [
    {
     "data": {
      "text/plain": [
       "array([[14,  2,  0],\n",
       "       [ 0, 20,  1],\n",
       "       [ 0,  0,  8]])"
      ]
     },
     "execution_count": 67,
     "metadata": {},
     "output_type": "execute_result"
    }
   ],
   "source": [
    "# TO DO: Implement best model\n",
    "from sklearn.metrics import confusion_matrix\n",
    "\n",
    "# fit the model\n",
    "tree.fit(X_train, y_train)\n",
    "\n",
    "# predict the target for the test data\n",
    "tree_pred = tree.predict(X_test)\n",
    "\n",
    "# create confusion matrix comparing test values and predicted values.\n",
    "cf = confusion_matrix(y_test, tree_pred)\n",
    "cf"
   ]
  },
  {
   "cell_type": "code",
   "execution_count": 68,
   "id": "09d21b59",
   "metadata": {},
   "outputs": [
    {
     "data": {
      "text/plain": [
       "<Axes: >"
      ]
     },
     "execution_count": 68,
     "metadata": {},
     "output_type": "execute_result"
    },
    {
     "data": {
      "image/png": "[encoded data removed]",
      "text/plain": [
       "<Figure size 800x550 with 2 Axes>"
      ]
     },
     "metadata": {},
     "output_type": "display_data"
    }
   ],
   "source": [
    "# TO DO: Print confusion matrix using a heatmap\n",
    "labels = [\"Class 1\", \"Class 2\", \"Class 3\"]\n",
    "sns.heatmap(cf, annot=True, xticklabels=labels, yticklabels=labels)"
   ]
  },
  {
   "cell_type": "code",
   "execution_count": 69,
   "id": "5ef95947",
   "metadata": {},
   "outputs": [
    {
     "name": "stdout",
     "output_type": "stream",
     "text": [
      "              precision    recall  f1-score   support\n",
      "\n",
      "     Class 1       1.00      0.88      0.93        16\n",
      "     Class 2       0.91      0.95      0.93        21\n",
      "     Class 3       0.89      1.00      0.94         8\n",
      "\n",
      "    accuracy                           0.93        45\n",
      "   macro avg       0.93      0.94      0.93        45\n",
      "weighted avg       0.94      0.93      0.93        45\n",
      "\n"
     ]
    }
   ],
   "source": [
    "# TO DO: Print classification report\n",
    "from sklearn.metrics import classification_report\n",
    "print(classification_report(y_test, tree_pred,\n",
    "      target_names=[\"Class 1\", \"Class 2\", \"Class 3\"]))"
   ]
  },
  {
   "cell_type": "markdown",
   "id": "bf319621",
   "metadata": {},
   "source": [
    "### Questions\n",
    "\n",
    "1. How do the training and validation accuracy change depending on the method used? Explain with values.\n",
    "1. What are two reasons why the support vector machines model did not work as well as the tree-based model?\n",
    "1. How many samples were incorrectly classified in step 5.2?\n",
    "1. In this case, is maximizing precision or recall more important? Why?\n",
    "\n",
    "_YOUR ANSWERS HERE_\n",
    "\n",
    "1. Accuracy for the decision tree was higher than the accuracy for SVC for both the training and validation values.\n",
    "   Decision tree had the higher training and validation scores at 0.99 and 0.89 suggesting it is a good fit. SVC had training and validation scores of 0.68 and 0.68 suggesting it is underfitting the data.\n",
    "\n",
    "2. Support vector machines model did not work as well as the tree-based model because:\n",
    "   a. SVM models equire careful preprocessing of the data and tuning of the parameters which was not performed for this dataset. The model may produce better accuracy scores if multiple models were created using an iterative process tuning the C and gamma parameters.\n",
    "   b. Tree based models work very well at classifying distinct features that don't require normalzation or standardization pre-processing.\n",
    "\n",
    "3. 3 samples were incorrectly classified out of 45 total test samples in step 5.2.\n",
    "\n",
    "4. In this case, maximizing precision is more important because it is more important limit the number of false positives (saying a sample DOES belong to a class when it doesn't). We would want to have high precision on predicting the class of wine to limit mistakes but also because the consequences of a false negative (saying a wine DOES NOT belong to a class when it does) are very low if the model does not predict correctly.\n"
   ]
  },
  {
   "cell_type": "markdown",
   "id": "664ff8ae",
   "metadata": {},
   "source": [
    "### Process Description\n",
    "\n",
    "Please describe the process you used to create your code. Cite any websites or generative AI tools used. You can use the following questions as guidance:\n",
    "\n",
    "1. Where did you source your code?\n",
    "1. In what order did you complete the steps?\n",
    "1. If you used generative AI, what prompts did you use? Did you need to modify the code at all? Why or why not?\n",
    "1. Did you have any challenges? If yes, what were they? If not, what helped you to be successful?\n"
   ]
  },
  {
   "cell_type": "markdown",
   "id": "d0e837da",
   "metadata": {},
   "source": [
    "_DESCRIBE YOUR PROCESS HERE_\n",
    "\n",
    "1.  Sourced code from:\n",
    "\n",
    "-   course notes, course jupyter notebooks\n",
    "-   course textbook (Introduction to Machine Learning with Python).\n",
    "-   pandas website, series objects: https://pandas.pydata.org/pandas-docs/stable/reference/api/pandas.Series.value_counts.html\n",
    "-   stack overflow, unpack series for iteration: https://stackoverflow.com/questions/50267185/iterate-over-pandas-series\n",
    "-   stack overflow, DataConversionWarning: https://stackoverflow.com/questions/34165731/a-column-vector-y-was-passed-when-a-1d-array-was-expected\n",
    "\n",
    "2. Completed the steps in the order written as instructed. Steps:\n",
    "\n",
    "-   data input - load wine dataset\n",
    "-   ML model and validation\n",
    "    -   applied a SVC model\n",
    "    -   applied Decision Tree model\n",
    "    -   reused the loop from previous part\n",
    "    -   fit the model to the decision tree as it had higher validation and training scores\n",
    "    -   predicted the y_test values using .fit()\n",
    "    -   created confusion matrix\n",
    "    -   plotted heatmap\n",
    "    -   printed classification report\n",
    "\n",
    "3. Did not use generative AI.\n",
    "4. No challenges. The course notes, example jupyter notebooks, and textbook were very helpful.\n"
   ]
  },
  {
   "cell_type": "markdown",
   "id": "4cd7358d",
   "metadata": {},
   "source": [
    "## Part 3: Observations/Interpretation\n",
    "\n",
    "Describe any pattern you see in the results. Relate your findings to what we discussed during lectures. Include data to justify your findings.\n",
    "\n",
    "_ADD YOUR FINDINGS HERE_\n",
    "\n",
    "For regression, the ensemble regression trees performed better than the single decision tree (validation accuracy of 0.89 GB, 0.84 RF vs 0.73 DT) due to the combination of the intsertion of randomness in the random forests and the serialization of models in gradient boosting. A model composed of multiple models better fits in terms of accuracy on data that hasn't been seen before. We saw this in the lectures that the gradient boosting improves upon earlier iterations and the random forest is built upon randomness samples or features and merges the best results together. These ensemble models would perform better accuracy and would overfit less than the model based upon one iteration of the dataset.\n",
    "\n",
    "For classification, the decision tree model out performed the SVC model (validation accuracy of 0.89 DT vs 0.67 SVC). This supports the conclusions in class that the SVC model requires careful tuning of the C and gamma parameters, none of which was done in this assignment therefore we cannot know if the SVC is an adequate model choice or if we simply didn't find the right set of parameters for the best accuracy in the model.\n"
   ]
  },
  {
   "cell_type": "markdown",
   "id": "fa21e53b",
   "metadata": {},
   "source": [
    "## Part 4: Bonus Question\n",
    "\n",
    "Repeat Part 2 and compare the support vector machines model used to `LinearSVC(max_iter=5000)`. Does using `LinearSVC` improve the results? Why or why not?\n",
    "\n",
    "Is `LinearSVC` a good fit for this dataset? Why or why not?\n"
   ]
  },
  {
   "cell_type": "code",
   "execution_count": 70,
   "id": "30fea72e",
   "metadata": {},
   "outputs": [
    {
     "name": "stderr",
     "output_type": "stream",
     "text": [
      "/Users/jennbushey/anaconda3/envs/ensf-ml/lib/python3.11/site-packages/sklearn/utils/validation.py:1184: DataConversionWarning: A column-vector y was passed when a 1d array was expected. Please change the shape of y to (n_samples, ), for example using ravel().\n",
      "  y = column_or_1d(y, warn=True)\n",
      "/Users/jennbushey/anaconda3/envs/ensf-ml/lib/python3.11/site-packages/sklearn/utils/validation.py:1184: DataConversionWarning: A column-vector y was passed when a 1d array was expected. Please change the shape of y to (n_samples, ), for example using ravel().\n",
      "  y = column_or_1d(y, warn=True)\n",
      "/Users/jennbushey/anaconda3/envs/ensf-ml/lib/python3.11/site-packages/sklearn/svm/_classes.py:32: FutureWarning: The default value of `dual` will change from `True` to `'auto'` in 1.5. Set the value of `dual` explicitly to suppress the warning.\n",
      "  warnings.warn(\n",
      "/Users/jennbushey/anaconda3/envs/ensf-ml/lib/python3.11/site-packages/sklearn/svm/_base.py:1242: ConvergenceWarning: Liblinear failed to converge, increase the number of iterations.\n",
      "  warnings.warn(\n",
      "/Users/jennbushey/anaconda3/envs/ensf-ml/lib/python3.11/site-packages/sklearn/svm/_classes.py:32: FutureWarning: The default value of `dual` will change from `True` to `'auto'` in 1.5. Set the value of `dual` explicitly to suppress the warning.\n",
      "  warnings.warn(\n",
      "/Users/jennbushey/anaconda3/envs/ensf-ml/lib/python3.11/site-packages/sklearn/svm/_base.py:1242: ConvergenceWarning: Liblinear failed to converge, increase the number of iterations.\n",
      "  warnings.warn(\n",
      "/Users/jennbushey/anaconda3/envs/ensf-ml/lib/python3.11/site-packages/sklearn/svm/_classes.py:32: FutureWarning: The default value of `dual` will change from `True` to `'auto'` in 1.5. Set the value of `dual` explicitly to suppress the warning.\n",
      "  warnings.warn(\n",
      "/Users/jennbushey/anaconda3/envs/ensf-ml/lib/python3.11/site-packages/sklearn/svm/_base.py:1242: ConvergenceWarning: Liblinear failed to converge, increase the number of iterations.\n",
      "  warnings.warn(\n",
      "/Users/jennbushey/anaconda3/envs/ensf-ml/lib/python3.11/site-packages/sklearn/svm/_classes.py:32: FutureWarning: The default value of `dual` will change from `True` to `'auto'` in 1.5. Set the value of `dual` explicitly to suppress the warning.\n",
      "  warnings.warn(\n",
      "/Users/jennbushey/anaconda3/envs/ensf-ml/lib/python3.11/site-packages/sklearn/svm/_base.py:1242: ConvergenceWarning: Liblinear failed to converge, increase the number of iterations.\n",
      "  warnings.warn(\n",
      "/Users/jennbushey/anaconda3/envs/ensf-ml/lib/python3.11/site-packages/sklearn/svm/_classes.py:32: FutureWarning: The default value of `dual` will change from `True` to `'auto'` in 1.5. Set the value of `dual` explicitly to suppress the warning.\n",
      "  warnings.warn(\n",
      "/Users/jennbushey/anaconda3/envs/ensf-ml/lib/python3.11/site-packages/sklearn/svm/_base.py:1242: ConvergenceWarning: Liblinear failed to converge, increase the number of iterations.\n",
      "  warnings.warn(\n",
      "/Users/jennbushey/anaconda3/envs/ensf-ml/lib/python3.11/site-packages/sklearn/svm/_classes.py:32: FutureWarning: The default value of `dual` will change from `True` to `'auto'` in 1.5. Set the value of `dual` explicitly to suppress the warning.\n",
      "  warnings.warn(\n",
      "/Users/jennbushey/anaconda3/envs/ensf-ml/lib/python3.11/site-packages/sklearn/svm/_base.py:1242: ConvergenceWarning: Liblinear failed to converge, increase the number of iterations.\n",
      "  warnings.warn(\n"
     ]
    },
    {
     "data": {
      "text/html": [
       "<div>\n",
       "<style scoped>\n",
       "    .dataframe tbody tr th:only-of-type {\n",
       "        vertical-align: middle;\n",
       "    }\n",
       "\n",
       "    .dataframe tbody tr th {\n",
       "        vertical-align: top;\n",
       "    }\n",
       "\n",
       "    .dataframe thead th {\n",
       "        text-align: right;\n",
       "    }\n",
       "</style>\n",
       "<table border=\"1\" class=\"dataframe\">\n",
       "  <thead>\n",
       "    <tr style=\"text-align: right;\">\n",
       "      <th></th>\n",
       "      <th>Training Accuracy</th>\n",
       "      <th>Validation Accuracy</th>\n",
       "    </tr>\n",
       "  </thead>\n",
       "  <tbody>\n",
       "    <tr>\n",
       "      <th>SVC</th>\n",
       "      <td>0.680427</td>\n",
       "      <td>0.676638</td>\n",
       "    </tr>\n",
       "    <tr>\n",
       "      <th>Linear SVC</th>\n",
       "      <td>0.889296</td>\n",
       "      <td>0.863533</td>\n",
       "    </tr>\n",
       "  </tbody>\n",
       "</table>\n",
       "</div>"
      ],
      "text/plain": [
       "           Training Accuracy Validation Accuracy\n",
       "SVC                 0.680427            0.676638\n",
       "Linear SVC          0.889296            0.863533"
      ]
     },
     "execution_count": 70,
     "metadata": {},
     "output_type": "execute_result"
    }
   ],
   "source": [
    "# TO DO: ADD YOUR CODE HERE\n",
    "from sklearn.svm import SVC, LinearSVC\n",
    "\n",
    "bonus_results = pd.DataFrame(index=[\"SVC\", \"Linear SVC\"], columns=[\n",
    "                             \"Training Accuracy\", \"Validation Accuracy\"])\n",
    "\n",
    "# split data to keep the testing data completely separate from the model\n",
    "X_train, X_test, y_train, y_test = train_test_split(X, y, random_state=0)\n",
    "\n",
    "# SVC\n",
    "svc = SVC()\n",
    "\n",
    "# LineraSVC\n",
    "svc_lin = LinearSVC(max_iter=5000)\n",
    "\n",
    "classification = (svc, svc_lin)\n",
    "\n",
    "i = 0\n",
    "for model in classification:\n",
    "    model.fit(X_train, y_train)\n",
    "    score = cross_validate(model, X_train, y_train.values.ravel(\n",
    "    ), cv=5, scoring='accuracy', return_train_score=True)\n",
    "    training_accuracy = score['train_score'].mean()\n",
    "    validation_accuracy = score['test_score'].mean()\n",
    "    bonus_results.iloc[i] = [training_accuracy, validation_accuracy]\n",
    "    i = i+1\n",
    "bonus_results"
   ]
  },
  {
   "cell_type": "markdown",
   "id": "aabc68a4",
   "metadata": {},
   "source": [
    "_ANSWER HERE_\n",
    "\n",
    "The results for the SVC model are the same as we did not change anything about the way SVC was calculated.\n",
    "\n",
    "The LinearSVC model has training accuracy of 0.99 and validation accuracy of 0.98. These values are significant improvement over the SVC model (training 0.68, validation 0.68) and the decision tree model (training 0.99, validation 0.89). This is likely due to the dataset being classified more easily by linear hyperplanes than the non-linear hyperplanes of SVC or the if/else style classification present in decision tree models.\n",
    "\n",
    "The Linear SVC is not a good fit for the dataset as the maximum iterations were reached.\n"
   ]
  },
  {
   "cell_type": "markdown",
   "id": "2199b73d",
   "metadata": {},
   "source": []
  }
 ],
 "metadata": {
  "kernelspec": {
   "display_name": "Python 3 (ipykernel)",
   "language": "python",
   "name": "python3"
  },
  "language_info": {
   "codemirror_mode": {
    "name": "ipython",
    "version": 3
   },
   "file_extension": ".py",
   "mimetype": "text/x-python",
   "name": "python",
   "nbconvert_exporter": "python",
   "pygments_lexer": "ipython3",
   "version": "3.11.7"
  }
 },
 "nbformat": 4,
 "nbformat_minor": 5
}
