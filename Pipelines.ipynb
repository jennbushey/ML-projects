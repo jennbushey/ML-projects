{
 "cells": [
  {
   "cell_type": "markdown",
   "id": "92778525",
   "metadata": {},
   "source": [
    "# Pipelines and Hyperparameter Tuning\n"
   ]
  },
  {
   "cell_type": "markdown",
   "id": "ce31b39a",
   "metadata": {},
   "source": [
    "### In this assignment, you will be putting together everything you have learned so far. You will need to find your own dataset, do all the appropriate preprocessing, test different supervised learning models and evaluate the results. More details for each step can be found below.\n",
    "\n",
    "### You will also be asked to describe the process by which you came up with the code. More details can be found below. Please cite any websites or AI tools that you used to help you with this assignment.\n"
   ]
  },
  {
   "cell_type": "markdown",
   "id": "cf275ca7",
   "metadata": {},
   "source": [
    "### Import Libraries\n"
   ]
  },
  {
   "cell_type": "code",
   "execution_count": 40,
   "id": "2b67a661",
   "metadata": {},
   "outputs": [],
   "source": [
    "import numpy as np\n",
    "import pandas as pd\n",
    "\n",
    "from sklearn.pipeline import Pipeline\n",
    "from sklearn.compose import ColumnTransformer\n",
    "from sklearn.linear_model import LogisticRegression\n",
    "\n",
    "from sklearn.model_selection import train_test_split, GridSearchCV\n",
    "\n",
    "from sklearn.feature_selection import SelectPercentile, chi2\n",
    "from sklearn.impute import SimpleImputer\n",
    "from sklearn.preprocessing import OneHotEncoder, StandardScaler\n",
    "from sklearn.metrics import make_scorer, accuracy_score, f1_score\n",
    "from sklearn.ensemble import RandomForestClassifier, GradientBoostingClassifier\n",
    "\n",
    "import seaborn as sns\n",
    "import matplotlib.pyplot as plt\n",
    "from sklearn.metrics import confusion_matrix"
   ]
  },
  {
   "cell_type": "markdown",
   "id": "8219f163",
   "metadata": {},
   "source": [
    "## Step 1: Data Input\n",
    "\n",
    "Import the dataset you will be using. You can download the dataset onto your computer and read it in using pandas, or download it directly from the website. Answer the questions below about the dataset you selected.\n",
    "\n",
    "To find a dataset, you can use the resources listed in the notes. The dataset can be numerical, categorical, text-based or mixed. If you want help finding a particular dataset related to your interests, please email the instructor.\n",
    "\n",
    "**You cannot use a dataset that was used for a previous assignment or in class**\n"
   ]
  },
  {
   "cell_type": "code",
   "execution_count": 41,
   "id": "2af8bd32",
   "metadata": {},
   "outputs": [],
   "source": [
    "# Import dataset\n",
    "# Data Source: https://www.kaggle.com/datasets/yekenot/tree-survival-prediction\n",
    "# kaggle datasets download -d yekenot/tree-survival-prediction\n",
    "df = pd.read_csv(\"./data/pipelines_dataset.csv\")"
   ]
  },
  {
   "cell_type": "markdown",
   "id": "d75fc331",
   "metadata": {},
   "source": [
    "#### Detailed information about each column follows:\n",
    "\n",
    "No: Seedling unique ID number.\n",
    "\n",
    "Plot: Number of the field plot the seedling was planted in. (1-18)\n",
    "\n",
    "Subplot: Subplot within the main plot the seedling was planted in. Broken into 5 subplots (1 per corner, plus 1 in the middle). (A-E)\n",
    "\n",
    "Species: Includes Acer saccharum, Prunus serotina, Quercus alba, and Quercus rubra.\n",
    "\n",
    "Light ISF: Light level quantified with HemiView software. Represents the amount of light reaching each subplot at a height of 1m.\n",
    "\n",
    "Light Cat: Categorical light level created by splitting the range of Light_ISF values into three bins (low, med, high).\n",
    "\n",
    "Core: Year the soil core was removed from the field.\n",
    "\n",
    "Soil: Species from which the soil core was taken. Includes all species, plus Acer rubrum, Populus grandidentata, and a sterilized conspecific for each species.\n",
    "\n",
    "Adult: Individual tree that soil was taken from. Up to 6 adults per species. Used as a random effect in analyses.\n",
    "\n",
    "Sterile: Whether the soil was sterilized or not.\n",
    "\n",
    "Conspecific: Whether the soil was conspecific, heterospecific, or sterilized conspecific.\n",
    "\n",
    "Myco: Mycorrhizal type of the seedling species (AMF or EMF).\n",
    "\n",
    "SoilMyco: Mycorrhizal type of the species culturing the soil (AMF or EMF).\n",
    "\n",
    "PlantDate: The date that seedlings were planted in the field pots.\n",
    "\n",
    "AMF: Percent arbuscular mycorrhizal fungi colonization on the fine roots of harvested seedlings.\n",
    "\n",
    "EMF: Percent ectomycorrhizal fungi colonization on the root tips of harvested seedlings.\n",
    "\n",
    "Phenolics: Calculated as nmol Gallic acid equivalents per mg dry extract (see manuscript for detailed methods)\n",
    "\n",
    "NSC: Calculated as percent dry mass nonstructural carbohydrates (see manuscript for detailed methods)\n",
    "\n",
    "Lignin: Calculated as percent dry mass lignin (see manuscript for detailed methods)\n",
    "\n",
    "Census: The census number at which time the seedling died or was harvested.\n",
    "\n",
    "Time: The number of days at which time the seedling died or was harvested.\n",
    "\n",
    "Event: Used for survival analysis to indicate status of each individual seedling at a given time (above)\n",
    "\n",
    "0 = harvested or experiment ended\n",
    "\n",
    "1 = dead\n",
    "\n",
    "Harvest: Indicates whether the seedling was harvested for trait measurement.\n",
    "\n",
    "Alive: Indicates if the seedling was alive at the end of the second growing season. \"X\" in this field indicates alive status.\n",
    "\n",
    "Missing data is coded as NA.\n"
   ]
  },
  {
   "cell_type": "markdown",
   "id": "20316765",
   "metadata": {},
   "source": [
    "### Questions\n",
    "\n",
    "1. What is the source of your dataset?\n",
    "1. Why did you pick this particular dataset?\n",
    "1. Was there anything challenging about finding a dataset that you wanted to use?\n"
   ]
  },
  {
   "cell_type": "markdown",
   "id": "22ab286a",
   "metadata": {},
   "source": [
    "_Answers_\n",
    "\n",
    "1. The dataset is from Kaggle.com - Tree Survival Prediction (https://www.kaggle.com/datasets/yekenot/tree-survival-prediction)\n",
    "\n",
    "Wood, Katherine; Kobe, Richard; Ibáñez, Inés; McCarthy-Neumann, Sarah (2023). Tree seedling functional traits mediate plant-soil feedback survival responses across a gradient of light availability [Dataset]. Dryad. https://doi.org/10.5061/dryad.xd2547dpw\n",
    "\n",
    "1. I picked this dataset as it has a reasonable size (23 features, 2783 rows) and the data includes heterogenous data (numerical data as well as categorical data) that seemed to be a good candidate for using column transformer.\n",
    "\n",
    "1. There were a lot of very small datasets or sets that had already seen a lot of preprocessing that had essentially already been scaled and encoded to columns of binary data.\n"
   ]
  },
  {
   "cell_type": "markdown",
   "id": "42fea4cc",
   "metadata": {},
   "source": [
    "## Step 2: Data Processing\n",
    "\n",
    "The next step is to process your data. Implement the following steps as needed.\n"
   ]
  },
  {
   "cell_type": "code",
   "execution_count": 42,
   "id": "c354b46f",
   "metadata": {},
   "outputs": [
    {
     "name": "stdout",
     "output_type": "stream",
     "text": [
      "The size of the dataset is: (2783, 24)\n"
     ]
    }
   ],
   "source": [
    "print(\"The size of the dataset is:\", df.shape)"
   ]
  },
  {
   "cell_type": "code",
   "execution_count": 43,
   "id": "250a9dd6",
   "metadata": {},
   "outputs": [
    {
     "data": {
      "text/html": [
       "<div>\n",
       "<style scoped>\n",
       "    .dataframe tbody tr th:only-of-type {\n",
       "        vertical-align: middle;\n",
       "    }\n",
       "\n",
       "    .dataframe tbody tr th {\n",
       "        vertical-align: top;\n",
       "    }\n",
       "\n",
       "    .dataframe thead th {\n",
       "        text-align: right;\n",
       "    }\n",
       "</style>\n",
       "<table border=\"1\" class=\"dataframe\">\n",
       "  <thead>\n",
       "    <tr style=\"text-align: right;\">\n",
       "      <th></th>\n",
       "      <th>No</th>\n",
       "      <th>Plot</th>\n",
       "      <th>Subplot</th>\n",
       "      <th>Species</th>\n",
       "      <th>Light_ISF</th>\n",
       "      <th>Light_Cat</th>\n",
       "      <th>Core</th>\n",
       "      <th>Soil</th>\n",
       "      <th>Adult</th>\n",
       "      <th>Sterile</th>\n",
       "      <th>...</th>\n",
       "      <th>AMF</th>\n",
       "      <th>EMF</th>\n",
       "      <th>Phenolics</th>\n",
       "      <th>Lignin</th>\n",
       "      <th>NSC</th>\n",
       "      <th>Census</th>\n",
       "      <th>Time</th>\n",
       "      <th>Event</th>\n",
       "      <th>Harvest</th>\n",
       "      <th>Alive</th>\n",
       "    </tr>\n",
       "  </thead>\n",
       "  <tbody>\n",
       "    <tr>\n",
       "      <th>0</th>\n",
       "      <td>126</td>\n",
       "      <td>1</td>\n",
       "      <td>C</td>\n",
       "      <td>Acer saccharum</td>\n",
       "      <td>0.106</td>\n",
       "      <td>Med</td>\n",
       "      <td>2017</td>\n",
       "      <td>Prunus serotina</td>\n",
       "      <td>I</td>\n",
       "      <td>Non-Sterile</td>\n",
       "      <td>...</td>\n",
       "      <td>22.00</td>\n",
       "      <td>NaN</td>\n",
       "      <td>-0.56</td>\n",
       "      <td>13.86</td>\n",
       "      <td>12.15</td>\n",
       "      <td>4</td>\n",
       "      <td>14.0</td>\n",
       "      <td>1.0</td>\n",
       "      <td>NaN</td>\n",
       "      <td>NaN</td>\n",
       "    </tr>\n",
       "    <tr>\n",
       "      <th>1</th>\n",
       "      <td>11</td>\n",
       "      <td>1</td>\n",
       "      <td>C</td>\n",
       "      <td>Quercus alba</td>\n",
       "      <td>0.106</td>\n",
       "      <td>Med</td>\n",
       "      <td>2017</td>\n",
       "      <td>Quercus rubra</td>\n",
       "      <td>970</td>\n",
       "      <td>Non-Sterile</td>\n",
       "      <td>...</td>\n",
       "      <td>15.82</td>\n",
       "      <td>31.07</td>\n",
       "      <td>5.19</td>\n",
       "      <td>20.52</td>\n",
       "      <td>19.29</td>\n",
       "      <td>33</td>\n",
       "      <td>115.5</td>\n",
       "      <td>0.0</td>\n",
       "      <td>NaN</td>\n",
       "      <td>X</td>\n",
       "    </tr>\n",
       "    <tr>\n",
       "      <th>2</th>\n",
       "      <td>12</td>\n",
       "      <td>1</td>\n",
       "      <td>C</td>\n",
       "      <td>Quercus rubra</td>\n",
       "      <td>0.106</td>\n",
       "      <td>Med</td>\n",
       "      <td>2017</td>\n",
       "      <td>Prunus serotina</td>\n",
       "      <td>J</td>\n",
       "      <td>Non-Sterile</td>\n",
       "      <td>...</td>\n",
       "      <td>24.45</td>\n",
       "      <td>28.19</td>\n",
       "      <td>3.36</td>\n",
       "      <td>24.74</td>\n",
       "      <td>15.01</td>\n",
       "      <td>18</td>\n",
       "      <td>63.0</td>\n",
       "      <td>1.0</td>\n",
       "      <td>NaN</td>\n",
       "      <td>NaN</td>\n",
       "    </tr>\n",
       "    <tr>\n",
       "      <th>3</th>\n",
       "      <td>2823</td>\n",
       "      <td>7</td>\n",
       "      <td>D</td>\n",
       "      <td>Acer saccharum</td>\n",
       "      <td>0.080</td>\n",
       "      <td>Med</td>\n",
       "      <td>2016</td>\n",
       "      <td>Prunus serotina</td>\n",
       "      <td>J</td>\n",
       "      <td>Non-Sterile</td>\n",
       "      <td>...</td>\n",
       "      <td>22.23</td>\n",
       "      <td>NaN</td>\n",
       "      <td>-0.71</td>\n",
       "      <td>14.29</td>\n",
       "      <td>12.36</td>\n",
       "      <td>4</td>\n",
       "      <td>14.0</td>\n",
       "      <td>1.0</td>\n",
       "      <td>NaN</td>\n",
       "      <td>NaN</td>\n",
       "    </tr>\n",
       "    <tr>\n",
       "      <th>4</th>\n",
       "      <td>5679</td>\n",
       "      <td>14</td>\n",
       "      <td>A</td>\n",
       "      <td>Acer saccharum</td>\n",
       "      <td>0.060</td>\n",
       "      <td>Low</td>\n",
       "      <td>2017</td>\n",
       "      <td>Prunus serotina</td>\n",
       "      <td>689</td>\n",
       "      <td>Non-Sterile</td>\n",
       "      <td>...</td>\n",
       "      <td>21.15</td>\n",
       "      <td>NaN</td>\n",
       "      <td>-0.58</td>\n",
       "      <td>10.85</td>\n",
       "      <td>11.20</td>\n",
       "      <td>4</td>\n",
       "      <td>14.0</td>\n",
       "      <td>1.0</td>\n",
       "      <td>NaN</td>\n",
       "      <td>NaN</td>\n",
       "    </tr>\n",
       "  </tbody>\n",
       "</table>\n",
       "<p>5 rows × 24 columns</p>\n",
       "</div>"
      ],
      "text/plain": [
       "     No  Plot Subplot         Species  Light_ISF Light_Cat  Core  \\\n",
       "0   126     1       C  Acer saccharum      0.106       Med  2017   \n",
       "1    11     1       C    Quercus alba      0.106       Med  2017   \n",
       "2    12     1       C   Quercus rubra      0.106       Med  2017   \n",
       "3  2823     7       D  Acer saccharum      0.080       Med  2016   \n",
       "4  5679    14       A  Acer saccharum      0.060       Low  2017   \n",
       "\n",
       "              Soil Adult      Sterile  ...    AMF    EMF Phenolics Lignin  \\\n",
       "0  Prunus serotina     I  Non-Sterile  ...  22.00    NaN     -0.56  13.86   \n",
       "1    Quercus rubra   970  Non-Sterile  ...  15.82  31.07      5.19  20.52   \n",
       "2  Prunus serotina     J  Non-Sterile  ...  24.45  28.19      3.36  24.74   \n",
       "3  Prunus serotina     J  Non-Sterile  ...  22.23    NaN     -0.71  14.29   \n",
       "4  Prunus serotina   689  Non-Sterile  ...  21.15    NaN     -0.58  10.85   \n",
       "\n",
       "     NSC  Census   Time  Event  Harvest  Alive  \n",
       "0  12.15       4   14.0    1.0      NaN    NaN  \n",
       "1  19.29      33  115.5    0.0      NaN      X  \n",
       "2  15.01      18   63.0    1.0      NaN    NaN  \n",
       "3  12.36       4   14.0    1.0      NaN    NaN  \n",
       "4  11.20       4   14.0    1.0      NaN    NaN  \n",
       "\n",
       "[5 rows x 24 columns]"
      ]
     },
     "execution_count": 43,
     "metadata": {},
     "output_type": "execute_result"
    }
   ],
   "source": [
    "# View first 5 rows of the data\n",
    "df.head()"
   ]
  },
  {
   "cell_type": "markdown",
   "id": "1fa957a3",
   "metadata": {},
   "source": [
    "#### Clean data\n"
   ]
  },
  {
   "cell_type": "code",
   "execution_count": 44,
   "id": "35173555",
   "metadata": {},
   "outputs": [],
   "source": [
    "# Clean data (if needed)"
   ]
  },
  {
   "cell_type": "code",
   "execution_count": 45,
   "id": "afc244d4",
   "metadata": {},
   "outputs": [
    {
     "data": {
      "text/plain": [
       "No                0\n",
       "Plot              0\n",
       "Subplot           0\n",
       "Species           0\n",
       "Light_ISF         0\n",
       "Light_Cat         0\n",
       "Core              0\n",
       "Soil              0\n",
       "Adult             0\n",
       "Sterile           0\n",
       "Conspecific       0\n",
       "Myco              0\n",
       "SoilMyco          0\n",
       "PlantDate         0\n",
       "AMF               0\n",
       "EMF            1500\n",
       "Phenolics         0\n",
       "Lignin            0\n",
       "NSC               0\n",
       "Census            0\n",
       "Time              0\n",
       "Event             1\n",
       "Harvest        2079\n",
       "Alive          2292\n",
       "dtype: int64"
      ]
     },
     "execution_count": 45,
     "metadata": {},
     "output_type": "execute_result"
    }
   ],
   "source": [
    "# Check for null values\n",
    "df.isnull().sum()"
   ]
  },
  {
   "cell_type": "code",
   "execution_count": 46,
   "id": "d73f739f",
   "metadata": {},
   "outputs": [],
   "source": [
    "# Fill all missing values with zeros\n",
    "df = df.fillna(0)\n",
    "\n",
    "# Replace X with 1\n",
    "df.replace('X', 1, inplace=True)"
   ]
  },
  {
   "cell_type": "code",
   "execution_count": 47,
   "id": "83bbed3d",
   "metadata": {},
   "outputs": [
    {
     "data": {
      "image/png": "[encoded data removed]",
      "text/plain": [
       "<Figure size 640x480 with 2 Axes>"
      ]
     },
     "metadata": {},
     "output_type": "display_data"
    }
   ],
   "source": [
    "# Visualize the correlation between numerical variables with a heatmap\n",
    "sns.heatmap(df.corr(numeric_only=True), cmap='coolwarm')\n",
    "plt.title(\"Correlation Heatmap\")\n",
    "plt.show()\n",
    "# The plot shows that there is strong correlation between 'No' and 'Plot' features.\n",
    "# Drop the 'No' column to reduce the number of features to consider in the machine learning model."
   ]
  },
  {
   "cell_type": "code",
   "execution_count": 48,
   "id": "d2387c6e",
   "metadata": {},
   "outputs": [
    {
     "name": "stdout",
     "output_type": "stream",
     "text": [
      "<class 'pandas.core.frame.DataFrame'>\n",
      "RangeIndex: 2783 entries, 0 to 2782\n",
      "Data columns (total 24 columns):\n",
      " #   Column       Non-Null Count  Dtype  \n",
      "---  ------       --------------  -----  \n",
      " 0   No           2783 non-null   int64  \n",
      " 1   Plot         2783 non-null   int64  \n",
      " 2   Subplot      2783 non-null   object \n",
      " 3   Species      2783 non-null   object \n",
      " 4   Light_ISF    2783 non-null   float64\n",
      " 5   Light_Cat    2783 non-null   object \n",
      " 6   Core         2783 non-null   int64  \n",
      " 7   Soil         2783 non-null   object \n",
      " 8   Adult        2783 non-null   object \n",
      " 9   Sterile      2783 non-null   object \n",
      " 10  Conspecific  2783 non-null   object \n",
      " 11  Myco         2783 non-null   object \n",
      " 12  SoilMyco     2783 non-null   object \n",
      " 13  PlantDate    2783 non-null   object \n",
      " 14  AMF          2783 non-null   float64\n",
      " 15  EMF          2783 non-null   float64\n",
      " 16  Phenolics    2783 non-null   float64\n",
      " 17  Lignin       2783 non-null   float64\n",
      " 18  NSC          2783 non-null   float64\n",
      " 19  Census       2783 non-null   int64  \n",
      " 20  Time         2783 non-null   float64\n",
      " 21  Event        2783 non-null   float64\n",
      " 22  Harvest      2783 non-null   int64  \n",
      " 23  Alive        2783 non-null   int64  \n",
      "dtypes: float64(8), int64(6), object(10)\n",
      "memory usage: 521.9+ KB\n"
     ]
    }
   ],
   "source": [
    "# View column info to determine if other cleaning is needed to extract numeric data\n",
    "df.info()"
   ]
  },
  {
   "cell_type": "code",
   "execution_count": 49,
   "id": "c611ea93",
   "metadata": {},
   "outputs": [],
   "source": [
    "# Define 'X' and 'y'\n",
    "# 'X' contains all features except 'Alive' and 'No'\n",
    "X = df.drop(columns=['Alive', 'No'])\n",
    "y = df['Alive']\n",
    "\n",
    "# Split the data into training and testing sets\n",
    "X_train, X_test, y_train, y_test = train_test_split(\n",
    "    X, y, test_size=0.3, random_state=0)"
   ]
  },
  {
   "cell_type": "code",
   "execution_count": 50,
   "id": "70a8c127",
   "metadata": {},
   "outputs": [],
   "source": [
    "# Implement preprocessing steps. Remember to use ColumnTransformer if more than one preprocessing method is needed\n",
    "\n",
    "# Define numeric and categorical features\n",
    "numeric_features = [\"Light_ISF\", \"AMF\", \"EMF\",\n",
    "                    \"Phenolics\", \"Lignin\", \"NSC\", \"Census\", \"Time\"]\n",
    "categorical_features = [\"Plot\", \"Subplot\", \"Species\", \"Light_Cat\", \"Core\",\n",
    "                        \"Soil\", \"Sterile\", \"Conspecific\", \"Myco\", \"SoilMyco\", \"Harvest\", \"Event\"]\n",
    "\n",
    "\n",
    "# Create the transformers\n",
    "numeric_transformer = Pipeline(\n",
    "    steps=[\n",
    "        (\"imputer\", SimpleImputer(strategy=\"median\")),\n",
    "        (\"scaler\", StandardScaler())]\n",
    ")\n",
    "categorical_transformer = Pipeline(\n",
    "    steps=[\n",
    "        (\"encoder\", OneHotEncoder(handle_unknown=\"ignore\")),\n",
    "        (\"selector\", SelectPercentile(chi2, percentile=50)),\n",
    "    ]\n",
    ")\n",
    "\n",
    "# Create the preprocessor using ColumnTransformer\n",
    "preprocessor = ColumnTransformer(\n",
    "    transformers=[\n",
    "        (\"num\", numeric_transformer, numeric_features),\n",
    "        (\"cat\", categorical_transformer, categorical_features),\n",
    "    ]\n",
    ")"
   ]
  },
  {
   "cell_type": "markdown",
   "id": "b92c46b7",
   "metadata": {},
   "source": [
    "### Questions\n",
    "\n",
    "1. Were there any missing/null values in your dataset? If yes, how did you replace them and why? If no, describe how you would've replaced them and why.\n",
    "2. What type of data do you have? What preprocessing methods would you have to apply based on your data types?\n"
   ]
  },
  {
   "cell_type": "markdown",
   "id": "532c8ced",
   "metadata": {},
   "source": [
    "_Answers_\n",
    "\n",
    "1. There were missing/null values in the dataset. Filling the missing values for EMF with 0 makes the most sense as the missing values indicate that there is no presence of the fungi. For Harvest and Alive we can fill the missing values with zero and change the existing values \"X\" to 1 to indicate that either the tree was harvested during or was still alive at the end of the study.\n",
    "\n",
    "1. There is numeric and categorical (both integer and string) data. Preprocessing included OneHotEncoding (categorical data, transforms categorical number or string categories into columns containing 1 or 0) and StandardScaler (numeric data, scaled to ensure mean is 0 with a variance of 1).\n"
   ]
  },
  {
   "cell_type": "markdown",
   "id": "2a245d00",
   "metadata": {},
   "source": [
    "## Step 3: Implement Machine Learning Model\n",
    "\n",
    "In this section, you will implement three different supervised learning models (one linear and two non-linear) of your choice. You will use a pipeline to help you decide which model and hyperparameters work best. It is up to you to select what models to use and what hyperparameters to test. You can use the class examples for guidance. You must print out the best model parameters and results after the grid search.\n"
   ]
  },
  {
   "cell_type": "code",
   "execution_count": 51,
   "id": "5558a776",
   "metadata": {},
   "outputs": [],
   "source": [
    "# Implement pipeline and grid search here. Can add more code blocks if necessary"
   ]
  },
  {
   "cell_type": "markdown",
   "id": "51dc3701",
   "metadata": {},
   "source": [
    "#### Implement Pipeline\n"
   ]
  },
  {
   "cell_type": "code",
   "execution_count": 52,
   "id": "221f6b9f",
   "metadata": {},
   "outputs": [],
   "source": [
    "# Create pipelines for each classifier\n",
    "# logistic regression, linear\n",
    "lr_pipeline = Pipeline(steps=[\n",
    "    ('preprocessor', preprocessor),\n",
    "    ('classifier', LogisticRegression(random_state=0))\n",
    "])\n",
    "\n",
    "# random forest, non-linear\n",
    "rf_pipeline = Pipeline(steps=[\n",
    "    ('preprocessor', preprocessor),\n",
    "    ('classifier', RandomForestClassifier(random_state=0))\n",
    "])\n",
    "\n",
    "# gradient boosting, non-linear\n",
    "gb_pipeline = Pipeline(steps=[\n",
    "    ('preprocessor', preprocessor),\n",
    "    ('classifier', GradientBoostingClassifier(random_state=0))\n",
    "])"
   ]
  },
  {
   "cell_type": "code",
   "execution_count": 53,
   "id": "3901b1ef",
   "metadata": {},
   "outputs": [
    {
     "name": "stdout",
     "output_type": "stream",
     "text": [
      "Number of alive trees in the dataset: 491\n"
     ]
    }
   ],
   "source": [
    "# Determine if data is imablanced to find out if F1 score appropriate\n",
    "print(\"Number of alive trees in the dataset:\", df['Alive'].sum())\n",
    "# the classes are imbalanced, 491 alive trees in 2783 total trees. F1 score is needed to make sure we aren't just guessing that the tree isn't alive."
   ]
  },
  {
   "cell_type": "code",
   "execution_count": 54,
   "id": "d2a16982",
   "metadata": {},
   "outputs": [],
   "source": [
    "# Define the scoring metrics you want to use\n",
    "scoring = {\n",
    "    'accuracy': make_scorer(accuracy_score),\n",
    "    'f1_score': make_scorer(f1_score)\n",
    "}"
   ]
  },
  {
   "cell_type": "markdown",
   "id": "f25306dd",
   "metadata": {},
   "source": [
    "#### Implement Grid Search\n"
   ]
  },
  {
   "cell_type": "code",
   "execution_count": 55,
   "id": "c34a2ac6",
   "metadata": {},
   "outputs": [],
   "source": [
    "# Define parameter grids\n",
    "param_grid_lr = {\n",
    "    'classifier__C': [0.001, 0.01, 0.1, 1, 10]\n",
    "}\n",
    "param_grid_rf = {\n",
    "    'classifier__n_estimators': [5, 10, 50, 100, 200],\n",
    "    'classifier__max_depth': [1, 3, 5]\n",
    "}\n",
    "param_grid_gb = {\n",
    "    'classifier__n_estimators': [5, 10, 50, 100, 200],\n",
    "    'classifier__learning_rate': [0.01, 0.1, 0.2, 0.3],\n",
    "    'classifier__max_depth': [1, 3, 5]\n",
    "}\n",
    "\n",
    "# Create GridSearchCV instances for each algorithm with multiple scoring metrics\n",
    "grid_lr = GridSearchCV(lr_pipeline, param_grid_lr, cv=5,\n",
    "                       scoring=scoring, refit='f1_score')\n",
    "grid_rf = GridSearchCV(rf_pipeline, param_grid_rf, cv=5,\n",
    "                       scoring=scoring, refit='f1_score')\n",
    "grid_gb = GridSearchCV(gb_pipeline, param_grid_gb, cv=5,\n",
    "                       scoring=scoring, refit='f1_score')"
   ]
  },
  {
   "cell_type": "markdown",
   "id": "cb2808fe",
   "metadata": {},
   "source": [
    "#### Fit the models\n"
   ]
  },
  {
   "cell_type": "code",
   "execution_count": 56,
   "id": "57b50174",
   "metadata": {},
   "outputs": [
    {
     "name": "stdout",
     "output_type": "stream",
     "text": [
      "Logistic Regression Results:\n",
      "Best Parameters for Logistic Regression based on F1: {'classifier__C': 0.01}\n",
      "Training Score based on Best Parameters:  1.0\n",
      "Average F1 score:  0.9485477822809848\n",
      "\n",
      "Random Forest Results:\n",
      "Best Parameters for Random Forest based on F1: {'classifier__max_depth': 3, 'classifier__n_estimators': 10}\n",
      "Training Score based on Best Parameters:  0.9994866529774127\n",
      "Average F1 score:  0.8188459788784003\n",
      "\n",
      "Gradient Boosting Results:\n",
      "Best Parameters for Gradient Boosting based on F1: {'classifier__learning_rate': 0.01, 'classifier__max_depth': 1, 'classifier__n_estimators': 50}\n",
      "Training Score based on Best Parameters:  0.9994866529774127\n",
      "Average F1 score:  0.8987050359712231\n"
     ]
    }
   ],
   "source": [
    "# Fit the models using training data\n",
    "grid_lr.fit(X_train, y_train)\n",
    "grid_rf.fit(X_train, y_train)\n",
    "grid_gb.fit(X_train, y_train)\n",
    "\n",
    "# Access the results for both scoring metrics\n",
    "results_lr = grid_lr.cv_results_\n",
    "results_rf = grid_rf.cv_results_\n",
    "results_gb = grid_gb.cv_results_\n",
    "\n",
    "# Get the best parameters based on F1\n",
    "best_params_lr = grid_lr.best_params_\n",
    "best_params_rf = grid_rf.best_params_\n",
    "best_params_gb = grid_gb.best_params_\n",
    "\n",
    "# Print the results for accuracy and F1\n",
    "print(\"Logistic Regression Results:\")\n",
    "print(\"Best Parameters for Logistic Regression based on F1:\", best_params_lr)\n",
    "print(\"Training Score based on Best Parameters: \",\n",
    "      grid_lr.best_estimator_.score(X_train, y_train))\n",
    "print(\"Average F1 score: \", results_lr['mean_test_f1_score'].mean())\n",
    "\n",
    "print(\"\\nRandom Forest Results:\")\n",
    "print(\"Best Parameters for Random Forest based on F1:\", best_params_rf)\n",
    "print(\"Training Score based on Best Parameters: \",\n",
    "      grid_rf.best_estimator_.score(X_train, y_train))\n",
    "print(\"Average F1 score: \", results_rf['mean_test_f1_score'].mean())\n",
    "\n",
    "print(\"\\nGradient Boosting Results:\")\n",
    "print(\"Best Parameters for Gradient Boosting based on F1:\", best_params_gb)\n",
    "print(\"Training Score based on Best Parameters: \",\n",
    "      grid_gb.best_estimator_.score(X_train, y_train))\n",
    "print(\"Average F1 score: \", results_gb['mean_test_f1_score'].mean())"
   ]
  },
  {
   "cell_type": "markdown",
   "id": "3dbd7075",
   "metadata": {},
   "source": [
    "### Questions\n",
    "\n",
    "1. Do you need regression or classification models for your dataset?\n",
    "1. Which models did you select for testing and why?\n",
    "1. Which model worked the best? Does this make sense based on the theory discussed in the course and the context of your dataset?\n"
   ]
  },
  {
   "cell_type": "markdown",
   "metadata": {},
   "source": [
    "_Answers_\n",
    "\n",
    "1. A classification model is needed for this dataset - predicting whether or not a tree is alive can only have two classes - alive or not with no gradient between them.\n",
    "\n",
    "1. I selected LogisticRegression, RandomForestClassifier, and GradientBoostingClassifier to span the linear/non-linear requirements but also to build models of varying complexity (lowest complexity being logitistic regression and highest complexity being gradient boosting classifier) and to allow multiple paramters to be tuned in the grid search.\n",
    "\n",
    "1. The LogisticRegression model worked the best in that it has the highest average F1 score and training score. This means the LogisticRegression model had the highest number of correct predictions across the entire dataset relative to Random Forest and Gradient Boosted trees. All models performed about the same when looking at the accuracy score for the best parameters coming from the pipeline. This makes sense based on the theory discussed in the course as the dataset is quite small and the tree models may be more complex than is needed to model the relationship between the features. The relationship between the features may also be linear and thus best represented by the linear model.\n"
   ]
  },
  {
   "cell_type": "markdown",
   "id": "3f994e31",
   "metadata": {},
   "source": [
    "## Step 4: Validate Model\n",
    "\n",
    "Use the testing set to calculate the testing accuracy for the best model determined in Step 3.\n"
   ]
  },
  {
   "cell_type": "code",
   "execution_count": 58,
   "id": "69e64c08",
   "metadata": {},
   "outputs": [
    {
     "name": "stdout",
     "output_type": "stream",
     "text": [
      "Testing Accuracy of the Best Model: 0.999\n"
     ]
    }
   ],
   "source": [
    "# Calculate testing accuracy\n",
    "\n",
    "# Get best model\n",
    "best_model = grid_lr.best_estimator_\n",
    "\n",
    "# Predictions on the testing set\n",
    "y_pred = best_model.predict(X_test)\n",
    "\n",
    "# Evaluate accuracy\n",
    "testing_accuracy = accuracy_score(y_test, y_pred)\n",
    "\n",
    "print(\"Testing Accuracy of the Best Model: {:.3f}\".format(testing_accuracy))"
   ]
  },
  {
   "cell_type": "markdown",
   "id": "1e4529ba",
   "metadata": {},
   "source": [
    "### Questions\n",
    "\n",
    "1. Which accuracy metric did you choose?\n",
    "1. How do these results compare to those in part 3? Did this model generalize well?\n",
    "1. Based on your results and the context of your dataset, did the best model perform \"well enough\" to be used out in the real-world? Why or why not? Do you have any suggestions for how you could improve this analysis?\n",
    "\n",
    "_ANSWER HERE_\n"
   ]
  },
  {
   "cell_type": "markdown",
   "metadata": {},
   "source": [
    "1. Used accuracy*score to validate the model and F1 score to determine which model is the best. Chose accuracy_score as the accuracy metric and accessed the best_estimator* model to predict based on the X_test values and compare to the y_test values. An F1 score is needed as the classes are imbalanced (491 alive trees in 2783 total trees) to make sure we aren't just guessing the negative class. The F1 score computes how many times the model made a correct prediction across the entire dataset.\n",
    "\n",
    "1. These results do compare to the results from the training set as all three models performed extremely well using the training data and the .score() method. The linear regression model performed best followed by the gradient boosting model and then the random forest model. This makes the most sense in that the logistic regression model has the fewest number of hyperparameters to fine-tune and it may be possible that the data has a somewhat linear relationship. The model did generalize well to new data as we recieved a score fo 0.999 on the new data.\n",
    "\n",
    "1. Based on the data, I would say this model performs well enough to be used in the real-world. Predicting if trees are alive is not critical to human life so the presence of false positive or false negative predictions don't carry much moral or ethical weight. There are likely many other factors that directly impact the lifespan of a tree that would prevent any model from perfectly predicting if a tree is alive or not. To improve the analysis we could add more features that would have weight on the prediction of the life of a tree.\n"
   ]
  },
  {
   "cell_type": "markdown",
   "id": "37b238f4",
   "metadata": {},
   "source": [
    "## Process Description\n",
    "\n",
    "Please describe the process you used to create your code. Cite any websites or generative AI tools used. You can use the following questions as guidance:\n",
    "\n",
    "1. Where did you source your code?\n",
    "1. In what order did you complete the steps?\n",
    "1. If you used generative AI, what prompts did you use? Did you need to modify the code at all? Why or why not?\n",
    "1. Did you have any challenges? If yes, what were they? If not, what helped you to be successful?\n"
   ]
  },
  {
   "cell_type": "markdown",
   "id": "93097bfe",
   "metadata": {},
   "source": [
    "_DESCRIBE YOUR PROCESS HERE_\n"
   ]
  },
  {
   "cell_type": "markdown",
   "metadata": {},
   "source": [
    "1. From the textbook (Introduction to Machine Learning with Python), class and lab examples.\n",
    "\n",
    "1. Completed the steps the order data cleaning, preprocessing using column transformer with StandardScaler and OneHotEncoder, created a pipline, and implemented grid search. I went back to add the heatmap of all of my numeric variables to see if there was anything else I could learn from the data. There was a strong correlation between the 'No' and 'Plot' column so I dropped the No column from the dataset. It also appears as though there is correlation between whether or not a tree is alive and the age of the tree (large 'Time' value). I ultimately tested the models when including the 'Census' and 'Time' features but I did explore whether or not to drop the columns thinking they may be too correlated to provide an accurate model. I did not drop the columns as when I did so the accuracy score for all three models was 1.0 but the F1 score was much lower (0.77, 0.65, and 0.79 for Logisitic Regression, Random Forest, and Gradient Boosted).\n",
    "\n",
    "1. Used generative AI to check my work. I keep getting the testing accuracy of 1.0 for all models despite the training mean_test_accuracy and f1_scores being lower than 0.999. I asked ChatGPT to tell me if I had a data leak. It said no data leak and suggested applying preprocessor.transform(X_test). This is an incorrect suggestion as the testing data does not need to be transformed or preprocessed. The test data is put into the finished model and a class is suggested based on the model, not based on changing the test data.\n",
    "\n",
    "1. Challenges: same as above... my testing score is a perfect 1.0 for all three models despite the training data telling me that the results might show otherwise. Changing the test_size in train_test_split allowed a very high accuracy score that was not a perfect value. I was also challenged on how / when to determine if features are too correlated and when to drop those features from the dataset.\n"
   ]
  }
 ],
 "metadata": {
  "kernelspec": {
   "display_name": "Python 3 (ipykernel)",
   "language": "python",
   "name": "python3"
  },
  "language_info": {
   "codemirror_mode": {
    "name": "ipython",
    "version": 3
   },
   "file_extension": ".py",
   "mimetype": "text/x-python",
   "name": "python",
   "nbconvert_exporter": "python",
   "pygments_lexer": "ipython3",
   "version": "3.11.7"
  }
 },
 "nbformat": 4,
 "nbformat_minor": 5
}
